{
 "cells": [
  {
   "cell_type": "markdown",
   "id": "8bcf7bfb-f06c-4373-b50c-bcb4aef87256",
   "metadata": {},
   "source": [
    "# This is a Python tutorial "
   ]
  },
  {
   "cell_type": "markdown",
   "id": "e54af021-f654-45f3-8631-016afbd157c1",
   "metadata": {},
   "source": [
    "This is our first program in Python: It is just started here"
   ]
  },
  {
   "cell_type": "code",
   "execution_count": 2,
   "id": "914a6db9-cb7a-43e5-b1ca-d941296c5db6",
   "metadata": {},
   "outputs": [
    {
     "name": "stdout",
     "output_type": "stream",
     "text": [
      "Hello World\n"
     ]
    }
   ],
   "source": [
    "print(\"Hello World\")"
   ]
  },
  {
   "cell_type": "markdown",
   "id": "ce11f14e-b6a0-43b3-849e-26f22afb1dee",
   "metadata": {},
   "source": [
    "# Variables "
   ]
  },
  {
   "cell_type": "code",
   "execution_count": 1,
   "id": "bb186585-465e-451d-9544-d49b59bca031",
   "metadata": {},
   "outputs": [],
   "source": [
    "x = 3"
   ]
  },
  {
   "cell_type": "code",
   "execution_count": 2,
   "id": "0ffa7c1e-a5d4-4bb8-b838-017e9cf1bdbe",
   "metadata": {},
   "outputs": [
    {
     "name": "stdout",
     "output_type": "stream",
     "text": [
      "Variable   Type    Data/Info\n",
      "----------------------------\n",
      "x          int     3\n"
     ]
    }
   ],
   "source": [
    "%whos"
   ]
  },
  {
   "cell_type": "code",
   "execution_count": 3,
   "id": "28a15274-f658-455e-9095-418bc045b1de",
   "metadata": {},
   "outputs": [
    {
     "name": "stdout",
     "output_type": "stream",
     "text": [
      "<class 'int'>\n"
     ]
    }
   ],
   "source": [
    "print(type(x))"
   ]
  },
  {
   "cell_type": "code",
   "execution_count": 4,
   "id": "ca939efe-1620-4f99-8bcc-29c011d55b8c",
   "metadata": {},
   "outputs": [],
   "source": [
    "x = 5.7"
   ]
  },
  {
   "cell_type": "code",
   "execution_count": 5,
   "id": "1c0578f1-a225-42f6-a001-5a6ffa6d4a84",
   "metadata": {},
   "outputs": [
    {
     "name": "stdout",
     "output_type": "stream",
     "text": [
      "<class 'float'>\n"
     ]
    }
   ],
   "source": [
    "print(type(x))"
   ]
  },
  {
   "cell_type": "code",
   "execution_count": 6,
   "id": "99ace9e2-43e3-40e5-8962-b148acbe7ed3",
   "metadata": {},
   "outputs": [
    {
     "name": "stdout",
     "output_type": "stream",
     "text": [
      "Variable   Type     Data/Info\n",
      "-----------------------------\n",
      "x          float    5.7\n"
     ]
    }
   ],
   "source": [
    "%whos"
   ]
  },
  {
   "cell_type": "code",
   "execution_count": 7,
   "id": "3b7bf3ba-b993-41a1-ac09-73f10330ac65",
   "metadata": {},
   "outputs": [],
   "source": [
    "abcd = 556.32"
   ]
  },
  {
   "cell_type": "code",
   "execution_count": 8,
   "id": "9da824b6-183b-4af8-a679-113c84d5f0a1",
   "metadata": {},
   "outputs": [
    {
     "name": "stdout",
     "output_type": "stream",
     "text": [
      "Variable   Type     Data/Info\n",
      "-----------------------------\n",
      "abcd       float    556.32\n",
      "x          float    5.7\n"
     ]
    }
   ],
   "source": [
    "%whos"
   ]
  },
  {
   "cell_type": "code",
   "execution_count": 9,
   "id": "2dabf360-2cc0-4779-96fb-c0c27605313a",
   "metadata": {},
   "outputs": [],
   "source": [
    "a,b,c,d,f = 3,5,6.0,7.2,-3"
   ]
  },
  {
   "cell_type": "code",
   "execution_count": 10,
   "id": "953b42ae-f104-4fc5-90cd-0ddde8312043",
   "metadata": {},
   "outputs": [
    {
     "name": "stdout",
     "output_type": "stream",
     "text": [
      "Variable   Type     Data/Info\n",
      "-----------------------------\n",
      "a          int      3\n",
      "abcd       float    556.32\n",
      "b          int      5\n",
      "c          float    6.0\n",
      "d          float    7.2\n",
      "f          int      -3\n",
      "x          float    5.7\n"
     ]
    }
   ],
   "source": [
    "%whos"
   ]
  },
  {
   "cell_type": "code",
   "execution_count": 11,
   "id": "cfc71e7a-7a3a-4e43-bba6-1e16951d98be",
   "metadata": {},
   "outputs": [],
   "source": [
    "del abcd"
   ]
  },
  {
   "cell_type": "code",
   "execution_count": 12,
   "id": "1458754b-b677-491b-9363-e94e09926fd0",
   "metadata": {},
   "outputs": [
    {
     "name": "stdout",
     "output_type": "stream",
     "text": [
      "Variable   Type     Data/Info\n",
      "-----------------------------\n",
      "a          int      3\n",
      "b          int      5\n",
      "c          float    6.0\n",
      "d          float    7.2\n",
      "f          int      -3\n",
      "x          float    5.7\n"
     ]
    }
   ],
   "source": [
    "%whos"
   ]
  },
  {
   "cell_type": "code",
   "execution_count": 13,
   "id": "a93941ce-a22b-4537-b9d4-b82e1585ab3b",
   "metadata": {},
   "outputs": [
    {
     "ename": "NameError",
     "evalue": "name 'abcd' is not defined",
     "output_type": "error",
     "traceback": [
      "\u001b[1;31m---------------------------------------------------------------------------\u001b[0m",
      "\u001b[1;31mNameError\u001b[0m                                 Traceback (most recent call last)",
      "Cell \u001b[1;32mIn[13], line 1\u001b[0m\n\u001b[1;32m----> 1\u001b[0m \u001b[38;5;28mprint\u001b[39m(abcd)\n",
      "\u001b[1;31mNameError\u001b[0m: name 'abcd' is not defined"
     ]
    }
   ],
   "source": [
    "print(abcd)"
   ]
  },
  {
   "cell_type": "code",
   "execution_count": 14,
   "id": "a0465b36-dab1-4e73-a834-ef5c14940d20",
   "metadata": {},
   "outputs": [],
   "source": [
    "c = 2+4j"
   ]
  },
  {
   "cell_type": "code",
   "execution_count": 15,
   "id": "79c840bf-0dbb-4f5d-a9d2-2f44f547e607",
   "metadata": {},
   "outputs": [
    {
     "name": "stdout",
     "output_type": "stream",
     "text": [
      "<class 'complex'>\n"
     ]
    }
   ],
   "source": [
    "print(type(c))"
   ]
  },
  {
   "cell_type": "code",
   "execution_count": 16,
   "id": "59c1d266-8e40-45bc-b538-8715553aa2f7",
   "metadata": {},
   "outputs": [],
   "source": [
    "s = \"hello how are you\""
   ]
  },
  {
   "cell_type": "code",
   "execution_count": 17,
   "id": "a26288c6-ea38-4ae4-bf7c-25df0a4cc27f",
   "metadata": {},
   "outputs": [
    {
     "name": "stdout",
     "output_type": "stream",
     "text": [
      "<class 'str'>\n"
     ]
    }
   ],
   "source": [
    "print(type(s))"
   ]
  },
  {
   "cell_type": "markdown",
   "id": "b8f5914f-9795-41a4-8794-c912aacaefe1",
   "metadata": {},
   "source": [
    "# Operators"
   ]
  },
  {
   "cell_type": "code",
   "execution_count": 18,
   "id": "a3808e89-b39d-45c7-adf0-553d474dc6ee",
   "metadata": {},
   "outputs": [
    {
     "name": "stdout",
     "output_type": "stream",
     "text": [
      "Variable   Type       Data/Info\n",
      "-------------------------------\n",
      "a          int        3\n",
      "b          int        5\n",
      "c          complex    (2+4j)\n",
      "d          float      7.2\n",
      "f          int        -3\n",
      "s          str        hello how are you\n",
      "x          float      5.7\n"
     ]
    }
   ],
   "source": [
    "%whos"
   ]
  },
  {
   "cell_type": "code",
   "execution_count": 22,
   "id": "abf715d5-f7e1-491f-8197-906fd304b1f5",
   "metadata": {},
   "outputs": [],
   "source": [
    "sumOfaAndb = a+b"
   ]
  },
  {
   "cell_type": "code",
   "execution_count": 23,
   "id": "945f7b4c-a144-4b86-b6a1-21af472e703c",
   "metadata": {},
   "outputs": [
    {
     "name": "stdout",
     "output_type": "stream",
     "text": [
      "8\n"
     ]
    }
   ],
   "source": [
    "print(sumOfaAndb)"
   ]
  },
  {
   "cell_type": "code",
   "execution_count": 24,
   "id": "567325c9-6e3f-4c58-ae1b-fcc51542f497",
   "metadata": {},
   "outputs": [
    {
     "data": {
      "text/plain": [
       "int"
      ]
     },
     "execution_count": 24,
     "metadata": {},
     "output_type": "execute_result"
    }
   ],
   "source": [
    "type(sumOfaAndb)"
   ]
  },
  {
   "cell_type": "code",
   "execution_count": 25,
   "id": "560103cc-3161-4f05-8a47-55c718924146",
   "metadata": {},
   "outputs": [
    {
     "data": {
      "text/plain": [
       "float"
      ]
     },
     "execution_count": 25,
     "metadata": {},
     "output_type": "execute_result"
    }
   ],
   "source": [
    "type(a+d)"
   ]
  },
  {
   "cell_type": "code",
   "execution_count": 26,
   "id": "7c8c2922-1340-4b6f-8bae-d1445204352b",
   "metadata": {},
   "outputs": [],
   "source": [
    "v = ((a+d)**3/4)"
   ]
  },
  {
   "cell_type": "code",
   "execution_count": 27,
   "id": "f85ed5f1-20b5-4918-b573-fc93b7646f82",
   "metadata": {},
   "outputs": [
    {
     "name": "stdout",
     "output_type": "stream",
     "text": [
      "265.30199999999996\n"
     ]
    }
   ],
   "source": [
    "print(v)"
   ]
  },
  {
   "cell_type": "code",
   "execution_count": 28,
   "id": "a97e87e2-15ba-403c-ab66-cbb87bb87b13",
   "metadata": {},
   "outputs": [],
   "source": [
    "s1 = \"Hello\""
   ]
  },
  {
   "cell_type": "code",
   "execution_count": 29,
   "id": "f042eede-ca8f-4689-9a06-1cf0af51ab6a",
   "metadata": {},
   "outputs": [],
   "source": [
    "s2 = \"World\""
   ]
  },
  {
   "cell_type": "code",
   "execution_count": 30,
   "id": "4b851384-f192-4388-bc6e-89bb75a1ca9b",
   "metadata": {},
   "outputs": [],
   "source": [
    "s = s1+s2"
   ]
  },
  {
   "cell_type": "code",
   "execution_count": 31,
   "id": "dc9c69a9-10e0-40d2-af97-bcf8b6b94edf",
   "metadata": {},
   "outputs": [
    {
     "name": "stdout",
     "output_type": "stream",
     "text": [
      "HelloWorld\n"
     ]
    }
   ],
   "source": [
    "print(s)"
   ]
  },
  {
   "cell_type": "code",
   "execution_count": 39,
   "id": "8bf326cf-94c0-49b7-82a1-7fdfe1dbb711",
   "metadata": {},
   "outputs": [
    {
     "data": {
      "text/plain": [
       "3"
      ]
     },
     "execution_count": 39,
     "metadata": {},
     "output_type": "execute_result"
    }
   ],
   "source": [
    "10//3"
   ]
  },
  {
   "cell_type": "code",
   "execution_count": 40,
   "id": "8b8263d8-b184-4b20-b064-ec4318b437d0",
   "metadata": {},
   "outputs": [
    {
     "data": {
      "text/plain": [
       "3.3333333333333335"
      ]
     },
     "execution_count": 40,
     "metadata": {},
     "output_type": "execute_result"
    }
   ],
   "source": [
    "10/3"
   ]
  },
  {
   "cell_type": "code",
   "execution_count": 41,
   "id": "dbc409bb-5f50-4e28-a295-688859ca941b",
   "metadata": {},
   "outputs": [
    {
     "name": "stdout",
     "output_type": "stream",
     "text": [
      "Variable     Type       Data/Info\n",
      "---------------------------------\n",
      "a            int        3\n",
      "b            int        5\n",
      "c            complex    (2+4j)\n",
      "d            float      7.2\n",
      "f            int        -3\n",
      "r            float      3.3333333333333335\n",
      "s            str        HelloWorld\n",
      "s1           str        Hello\n",
      "s2           str        World\n",
      "sumOfaAndB   int        8\n",
      "sumOfaAndb   int        8\n",
      "v            float      265.30199999999996\n",
      "x            float      5.7\n"
     ]
    }
   ],
   "source": [
    "%whos"
   ]
  },
  {
   "cell_type": "code",
   "execution_count": 42,
   "id": "1b7a2f1e-3704-4c74-9a68-73ec5f0ef14f",
   "metadata": {},
   "outputs": [
    {
     "name": "stdout",
     "output_type": "stream",
     "text": [
      "3.3333333333333335\n"
     ]
    }
   ],
   "source": [
    "print(_)"
   ]
  },
  {
   "cell_type": "code",
   "execution_count": 43,
   "id": "c64846ce-80f3-46a9-bda7-dc3346454504",
   "metadata": {},
   "outputs": [
    {
     "ename": "SyntaxError",
     "evalue": "invalid decimal literal (1340777838.py, line 1)",
     "output_type": "error",
     "traceback": [
      "\u001b[1;36m  Cell \u001b[1;32mIn[43], line 1\u001b[1;36m\u001b[0m\n\u001b[1;33m    3x = \"pruebaVar\"\u001b[0m\n\u001b[1;37m    ^\u001b[0m\n\u001b[1;31mSyntaxError\u001b[0m\u001b[1;31m:\u001b[0m invalid decimal literal\n"
     ]
    }
   ],
   "source": [
    "3x = \"pruebaVar\""
   ]
  },
  {
   "cell_type": "code",
   "execution_count": 44,
   "id": "69910e87-41f9-4428-af6a-226ce979e733",
   "metadata": {},
   "outputs": [
    {
     "ename": "SyntaxError",
     "evalue": "invalid decimal literal (1671370663.py, line 1)",
     "output_type": "error",
     "traceback": [
      "\u001b[1;36m  Cell \u001b[1;32mIn[44], line 1\u001b[1;36m\u001b[0m\n\u001b[1;33m    3x = 5\u001b[0m\n\u001b[1;37m    ^\u001b[0m\n\u001b[1;31mSyntaxError\u001b[0m\u001b[1;31m:\u001b[0m invalid decimal literal\n"
     ]
    }
   ],
   "source": [
    "3x = 5"
   ]
  },
  {
   "cell_type": "code",
   "execution_count": 45,
   "id": "f53e9ffc-c932-44d1-af2a-38e6ccdec44b",
   "metadata": {},
   "outputs": [],
   "source": [
    "_e=6"
   ]
  },
  {
   "cell_type": "code",
   "execution_count": 46,
   "id": "dcdecd81-3686-4308-b325-f4db3e40a009",
   "metadata": {},
   "outputs": [
    {
     "name": "stdout",
     "output_type": "stream",
     "text": [
      "<class 'float'>\n"
     ]
    }
   ],
   "source": [
    "print(type(_))"
   ]
  },
  {
   "cell_type": "code",
   "execution_count": 47,
   "id": "71075c29-b3f4-4eab-8418-568900241ce0",
   "metadata": {},
   "outputs": [
    {
     "name": "stdout",
     "output_type": "stream",
     "text": [
      "<class 'int'>\n"
     ]
    }
   ],
   "source": [
    "print(type(_e))"
   ]
  },
  {
   "cell_type": "code",
   "execution_count": 48,
   "id": "bdfbcd92-d6e6-4c4c-a971-4d671286e0c5",
   "metadata": {},
   "outputs": [],
   "source": [
    "startingTimeOfTheCourse = 2.0"
   ]
  },
  {
   "cell_type": "code",
   "execution_count": 49,
   "id": "bbe9897e-0dc7-4fb0-87b1-fccd5a2a137f",
   "metadata": {},
   "outputs": [
    {
     "name": "stdout",
     "output_type": "stream",
     "text": [
      "Variable                  Type       Data/Info\n",
      "----------------------------------------------\n",
      "a                         int        3\n",
      "b                         int        5\n",
      "c                         complex    (2+4j)\n",
      "d                         float      7.2\n",
      "f                         int        -3\n",
      "r                         float      3.3333333333333335\n",
      "s                         str        HelloWorld\n",
      "s1                        str        Hello\n",
      "s2                        str        World\n",
      "startingTimeOfTheCourse   float      2.0\n",
      "sumOfaAndB                int        8\n",
      "sumOfaAndb                int        8\n",
      "v                         float      265.30199999999996\n",
      "x                         float      5.7\n"
     ]
    }
   ],
   "source": [
    "%whos"
   ]
  },
  {
   "cell_type": "code",
   "execution_count": 50,
   "id": "1391498f-837d-4bfe-934b-59aed3fecef6",
   "metadata": {},
   "outputs": [
    {
     "data": {
      "text/plain": [
       "False"
      ]
     },
     "execution_count": 50,
     "metadata": {},
     "output_type": "execute_result"
    }
   ],
   "source": [
    "a == b"
   ]
  },
  {
   "cell_type": "code",
   "execution_count": 51,
   "id": "90cb801a-d0d8-4dcf-bc07-9e18560ad313",
   "metadata": {},
   "outputs": [],
   "source": [
    "a=1"
   ]
  },
  {
   "cell_type": "code",
   "execution_count": 52,
   "id": "dee73969-f73f-4070-9959-1aa69e5550dd",
   "metadata": {},
   "outputs": [],
   "source": [
    "b=1"
   ]
  },
  {
   "cell_type": "code",
   "execution_count": 53,
   "id": "45d6c263-151b-4951-b541-6f508f840380",
   "metadata": {},
   "outputs": [
    {
     "data": {
      "text/plain": [
       "True"
      ]
     },
     "execution_count": 53,
     "metadata": {},
     "output_type": "execute_result"
    }
   ],
   "source": [
    "a==b"
   ]
  },
  {
   "cell_type": "code",
   "execution_count": 54,
   "id": "10449d5c-5ef9-4595-9288-4fd2f49a1c97",
   "metadata": {},
   "outputs": [
    {
     "data": {
      "text/plain": [
       "True"
      ]
     },
     "execution_count": 54,
     "metadata": {},
     "output_type": "execute_result"
    }
   ],
   "source": [
    "not(False)"
   ]
  },
  {
   "cell_type": "code",
   "execution_count": 55,
   "id": "1fcef597-9b08-40b1-8b83-d687f6f80b4c",
   "metadata": {},
   "outputs": [
    {
     "data": {
      "text/plain": [
       "False"
      ]
     },
     "execution_count": 55,
     "metadata": {},
     "output_type": "execute_result"
    }
   ],
   "source": [
    "not(True)"
   ]
  },
  {
   "cell_type": "code",
   "execution_count": 56,
   "id": "8f2764c4-5929-48a3-83d9-c5e3d5a24cac",
   "metadata": {},
   "outputs": [
    {
     "data": {
      "text/plain": [
       "False"
      ]
     },
     "execution_count": 56,
     "metadata": {},
     "output_type": "execute_result"
    }
   ],
   "source": [
    "a > b"
   ]
  },
  {
   "cell_type": "code",
   "execution_count": 57,
   "id": "453a23c8-8a01-448d-b97d-955fed8ee076",
   "metadata": {},
   "outputs": [
    {
     "data": {
      "text/plain": [
       "False"
      ]
     },
     "execution_count": 57,
     "metadata": {},
     "output_type": "execute_result"
    }
   ],
   "source": [
    "b>a"
   ]
  },
  {
   "cell_type": "code",
   "execution_count": 58,
   "id": "2d2e5823-efc5-4dc5-aa58-02aea60c07d3",
   "metadata": {},
   "outputs": [
    {
     "data": {
      "text/plain": [
       "False"
      ]
     },
     "execution_count": 58,
     "metadata": {},
     "output_type": "execute_result"
    }
   ],
   "source": [
    "b > a"
   ]
  },
  {
   "cell_type": "code",
   "execution_count": 59,
   "id": "63b0c045-2428-49b1-b5fa-04aee2b74c8d",
   "metadata": {},
   "outputs": [
    {
     "data": {
      "text/plain": [
       "False"
      ]
     },
     "execution_count": 59,
     "metadata": {},
     "output_type": "execute_result"
    }
   ],
   "source": [
    "b<a"
   ]
  },
  {
   "cell_type": "markdown",
   "id": "167478a6-104b-4ec9-9390-a7348aa213ba",
   "metadata": {},
   "source": [
    "# Bool"
   ]
  },
  {
   "cell_type": "code",
   "execution_count": 60,
   "id": "a3a5ef57-cae8-421e-b670-5d76f2d14f11",
   "metadata": {},
   "outputs": [
    {
     "ename": "NameError",
     "evalue": "name 'TRUE' is not defined",
     "output_type": "error",
     "traceback": [
      "\u001b[1;31m---------------------------------------------------------------------------\u001b[0m",
      "\u001b[1;31mNameError\u001b[0m                                 Traceback (most recent call last)",
      "Cell \u001b[1;32mIn[60], line 1\u001b[0m\n\u001b[1;32m----> 1\u001b[0m a \u001b[38;5;241m=\u001b[39m TRUE\n",
      "\u001b[1;31mNameError\u001b[0m: name 'TRUE' is not defined"
     ]
    }
   ],
   "source": [
    "a = TRUE"
   ]
  },
  {
   "cell_type": "code",
   "execution_count": 61,
   "id": "736e6e99-37b2-48e9-9640-9560eccb6edb",
   "metadata": {},
   "outputs": [],
   "source": [
    "a = True \n",
    "b = True\n",
    "c = False"
   ]
  },
  {
   "cell_type": "code",
   "execution_count": 62,
   "id": "65e75294-dcdc-48ab-ab92-da17f42a4e54",
   "metadata": {},
   "outputs": [
    {
     "name": "stdout",
     "output_type": "stream",
     "text": [
      "Variable                  Type     Data/Info\n",
      "--------------------------------------------\n",
      "a                         bool     True\n",
      "b                         bool     True\n",
      "c                         bool     False\n",
      "d                         float    7.2\n",
      "f                         int      -3\n",
      "r                         float    3.3333333333333335\n",
      "s                         str      HelloWorld\n",
      "s1                        str      Hello\n",
      "s2                        str      World\n",
      "startingTimeOfTheCourse   float    2.0\n",
      "sumOfaAndB                int      8\n",
      "sumOfaAndb                int      8\n",
      "v                         float    265.30199999999996\n",
      "x                         float    5.7\n"
     ]
    }
   ],
   "source": [
    "%whos"
   ]
  },
  {
   "cell_type": "code",
   "execution_count": 63,
   "id": "6befef09-7088-4a78-850e-77d3a1103d00",
   "metadata": {},
   "outputs": [
    {
     "name": "stdout",
     "output_type": "stream",
     "text": [
      "True\n"
     ]
    }
   ],
   "source": [
    "print(a and b)"
   ]
  },
  {
   "cell_type": "code",
   "execution_count": 64,
   "id": "4451fbfb-78ea-4206-bf62-87c6db010753",
   "metadata": {},
   "outputs": [
    {
     "name": "stdout",
     "output_type": "stream",
     "text": [
      "False\n"
     ]
    }
   ],
   "source": [
    "print(a and c)"
   ]
  },
  {
   "cell_type": "code",
   "execution_count": 65,
   "id": "93fc1621-db25-4cbd-b118-34af62318185",
   "metadata": {},
   "outputs": [
    {
     "name": "stdout",
     "output_type": "stream",
     "text": [
      "False\n"
     ]
    }
   ],
   "source": [
    "print(c and b)"
   ]
  },
  {
   "cell_type": "code",
   "execution_count": 66,
   "id": "ad9f1ec8-1012-4d47-b597-4e081b9599d2",
   "metadata": {},
   "outputs": [
    {
     "name": "stdout",
     "output_type": "stream",
     "text": [
      "True\n"
     ]
    }
   ],
   "source": [
    "d = a or c\n",
    "print(d)"
   ]
  },
  {
   "cell_type": "code",
   "execution_count": 67,
   "id": "d5822d13-302f-45e9-9c96-e61892c2ce32",
   "metadata": {},
   "outputs": [
    {
     "data": {
      "text/plain": [
       "False"
      ]
     },
     "execution_count": 67,
     "metadata": {},
     "output_type": "execute_result"
    }
   ],
   "source": [
    "not (a)"
   ]
  },
  {
   "cell_type": "code",
   "execution_count": 68,
   "id": "9750b46f-8961-46a5-a05f-8f63a63d0c6f",
   "metadata": {},
   "outputs": [
    {
     "data": {
      "text/plain": [
       "False"
      ]
     },
     "execution_count": 68,
     "metadata": {},
     "output_type": "execute_result"
    }
   ],
   "source": [
    "not(b)"
   ]
  },
  {
   "cell_type": "code",
   "execution_count": 69,
   "id": "68aabdca-aa77-4d8e-847f-775545566b33",
   "metadata": {},
   "outputs": [
    {
     "data": {
      "text/plain": [
       "True"
      ]
     },
     "execution_count": 69,
     "metadata": {},
     "output_type": "execute_result"
    }
   ],
   "source": [
    "not(c)"
   ]
  },
  {
   "cell_type": "code",
   "execution_count": 70,
   "id": "59bdfbf0-8ce9-4e3e-8af9-4ddb962fb3b4",
   "metadata": {},
   "outputs": [],
   "source": [
    "t = not(d)"
   ]
  },
  {
   "cell_type": "code",
   "execution_count": 71,
   "id": "a5065b45-eaab-47c3-b600-529a6e09e5f3",
   "metadata": {},
   "outputs": [
    {
     "data": {
      "text/plain": [
       "bool"
      ]
     },
     "execution_count": 71,
     "metadata": {},
     "output_type": "execute_result"
    }
   ],
   "source": [
    "type(t)"
   ]
  },
  {
   "cell_type": "code",
   "execution_count": 72,
   "id": "80e44fbc-a636-4a7d-b99c-9cae6b8ed835",
   "metadata": {},
   "outputs": [
    {
     "data": {
      "text/plain": [
       "False"
      ]
     },
     "execution_count": 72,
     "metadata": {},
     "output_type": "execute_result"
    }
   ],
   "source": [
    "not((a and b) or (c and d))"
   ]
  },
  {
   "cell_type": "code",
   "execution_count": 73,
   "id": "29a5b659-ded6-4787-8a15-de3f85b7d4ea",
   "metadata": {},
   "outputs": [
    {
     "data": {
      "text/plain": [
       "False"
      ]
     },
     "execution_count": 73,
     "metadata": {},
     "output_type": "execute_result"
    }
   ],
   "source": [
    "a != b"
   ]
  },
  {
   "cell_type": "code",
   "execution_count": 74,
   "id": "46451179-5109-45ef-8494-6892d8bf4a3b",
   "metadata": {},
   "outputs": [
    {
     "ename": "NameError",
     "evalue": "name 'y' is not defined",
     "output_type": "error",
     "traceback": [
      "\u001b[1;31m---------------------------------------------------------------------------\u001b[0m",
      "\u001b[1;31mNameError\u001b[0m                                 Traceback (most recent call last)",
      "Cell \u001b[1;32mIn[74], line 1\u001b[0m\n\u001b[1;32m----> 1\u001b[0m a \u001b[38;5;241m<\u001b[39m y\n",
      "\u001b[1;31mNameError\u001b[0m: name 'y' is not defined"
     ]
    }
   ],
   "source": [
    "a < y"
   ]
  },
  {
   "cell_type": "code",
   "execution_count": 75,
   "id": "9f913ca8-4fd4-4d21-ba4b-4c2b3874e547",
   "metadata": {},
   "outputs": [
    {
     "data": {
      "text/plain": [
       "False"
      ]
     },
     "execution_count": 75,
     "metadata": {},
     "output_type": "execute_result"
    }
   ],
   "source": [
    "a<b"
   ]
  },
  {
   "cell_type": "code",
   "execution_count": 76,
   "id": "c2206a6b-c5c5-48d3-890f-c18cf2901b1d",
   "metadata": {},
   "outputs": [
    {
     "data": {
      "text/plain": [
       "False"
      ]
     },
     "execution_count": 76,
     "metadata": {},
     "output_type": "execute_result"
    }
   ],
   "source": [
    "b<a"
   ]
  },
  {
   "cell_type": "code",
   "execution_count": 77,
   "id": "a4d3f62a-d0d1-49ce-b954-b98c708b7c16",
   "metadata": {},
   "outputs": [
    {
     "data": {
      "text/plain": [
       "False"
      ]
     },
     "execution_count": 77,
     "metadata": {},
     "output_type": "execute_result"
    }
   ],
   "source": [
    "a>b"
   ]
  },
  {
   "cell_type": "markdown",
   "id": "d962137d-60c0-4151-a78d-24e1e4d99944",
   "metadata": {},
   "source": [
    "# Comparisons"
   ]
  },
  {
   "cell_type": "code",
   "execution_count": 79,
   "id": "60dfc2c4-5099-4ce3-9e09-33b9b4d77690",
   "metadata": {},
   "outputs": [
    {
     "name": "stdout",
     "output_type": "stream",
     "text": [
      "True\n"
     ]
    }
   ],
   "source": [
    "print(2<3)"
   ]
  },
  {
   "cell_type": "code",
   "execution_count": 80,
   "id": "c67c7652-fe05-4888-ab39-715e25b92514",
   "metadata": {},
   "outputs": [
    {
     "data": {
      "text/plain": [
       "bool"
      ]
     },
     "execution_count": 80,
     "metadata": {},
     "output_type": "execute_result"
    }
   ],
   "source": [
    "c = 2<3\n",
    "type(c)"
   ]
  },
  {
   "cell_type": "code",
   "execution_count": 81,
   "id": "bfbfdc66-d86e-4048-ad18-80c46be317dc",
   "metadata": {},
   "outputs": [
    {
     "name": "stdout",
     "output_type": "stream",
     "text": [
      "<class 'bool'>\n"
     ]
    }
   ],
   "source": [
    "print(type(c))"
   ]
  },
  {
   "cell_type": "code",
   "execution_count": 82,
   "id": "5232870c-ee56-452e-a46e-edf6fb6c5741",
   "metadata": {},
   "outputs": [],
   "source": [
    "d = 3==4"
   ]
  },
  {
   "cell_type": "code",
   "execution_count": 83,
   "id": "ab1f3316-1c53-404d-b44a-700d1c829e4b",
   "metadata": {},
   "outputs": [
    {
     "name": "stdout",
     "output_type": "stream",
     "text": [
      "False\n"
     ]
    }
   ],
   "source": [
    "print(d)"
   ]
  },
  {
   "cell_type": "code",
   "execution_count": 84,
   "id": "2f8e35be-496c-4f9c-83e7-f778a70137fa",
   "metadata": {},
   "outputs": [
    {
     "name": "stdout",
     "output_type": "stream",
     "text": [
      "<class 'bool'>\n"
     ]
    }
   ],
   "source": [
    "print(type(d))"
   ]
  },
  {
   "cell_type": "code",
   "execution_count": 85,
   "id": "f44e083e-37ee-4204-a9b4-88e6df65fdcf",
   "metadata": {},
   "outputs": [
    {
     "data": {
      "text/plain": [
       "True"
      ]
     },
     "execution_count": 85,
     "metadata": {},
     "output_type": "execute_result"
    }
   ],
   "source": [
    "3==3.0"
   ]
  },
  {
   "cell_type": "code",
   "execution_count": 86,
   "id": "4a422914-c202-43ec-b1e2-0ae396deb381",
   "metadata": {},
   "outputs": [],
   "source": [
    "x = 4\n",
    "y = 9\n",
    "z = 8.3\n",
    "r = -3\n"
   ]
  },
  {
   "cell_type": "code",
   "execution_count": 87,
   "id": "759e608e-93d3-463d-a8b8-3b2042867f02",
   "metadata": {},
   "outputs": [
    {
     "data": {
      "text/plain": [
       "True"
      ]
     },
     "execution_count": 87,
     "metadata": {},
     "output_type": "execute_result"
    }
   ],
   "source": [
    "x<y"
   ]
  },
  {
   "cell_type": "code",
   "execution_count": 88,
   "id": "f7677729-d43c-4b18-a4e1-882004c95b5f",
   "metadata": {},
   "outputs": [
    {
     "data": {
      "text/plain": [
       "True"
      ]
     },
     "execution_count": 88,
     "metadata": {},
     "output_type": "execute_result"
    }
   ],
   "source": [
    "(x<y) and (z<y) or (r==x)"
   ]
  },
  {
   "cell_type": "code",
   "execution_count": 89,
   "id": "a629d23a-eb1c-4117-babc-19ed4f61060d",
   "metadata": {},
   "outputs": [
    {
     "data": {
      "text/plain": [
       "False"
      ]
     },
     "execution_count": 89,
     "metadata": {},
     "output_type": "execute_result"
    }
   ],
   "source": [
    "(r==x) and (x<y) or (z>y)"
   ]
  },
  {
   "cell_type": "code",
   "execution_count": 90,
   "id": "d87163c2-ad97-4dd7-bf9e-be669d3d599d",
   "metadata": {},
   "outputs": [
    {
     "data": {
      "text/plain": [
       "True"
      ]
     },
     "execution_count": 90,
     "metadata": {},
     "output_type": "execute_result"
    }
   ],
   "source": [
    "True or False"
   ]
  },
  {
   "cell_type": "code",
   "execution_count": 91,
   "id": "8af61fc4-c3f2-41ba-b9e2-43db4a824ee5",
   "metadata": {},
   "outputs": [
    {
     "data": {
      "text/plain": [
       "True"
      ]
     },
     "execution_count": 91,
     "metadata": {},
     "output_type": "execute_result"
    }
   ],
   "source": [
    "True or False and True"
   ]
  },
  {
   "cell_type": "code",
   "execution_count": 92,
   "id": "f17fe397-c3f1-4801-b6b1-f60482ff5e2d",
   "metadata": {},
   "outputs": [
    {
     "data": {
      "text/plain": [
       "False"
      ]
     },
     "execution_count": 92,
     "metadata": {},
     "output_type": "execute_result"
    }
   ],
   "source": [
    "False or False and True"
   ]
  },
  {
   "cell_type": "markdown",
   "id": "0935e7b0-eb4d-40ab-91ca-940c62a194bd",
   "metadata": {},
   "source": [
    "# Some useful functions"
   ]
  },
  {
   "cell_type": "code",
   "execution_count": 93,
   "id": "38857c1c-64f4-48b1-b5ab-e4f830a34039",
   "metadata": {},
   "outputs": [
    {
     "data": {
      "text/plain": [
       "5"
      ]
     },
     "execution_count": 93,
     "metadata": {},
     "output_type": "execute_result"
    }
   ],
   "source": [
    "round(4.6)"
   ]
  },
  {
   "cell_type": "code",
   "execution_count": 94,
   "id": "756d3251-7639-4459-b1dc-a4043b221dc4",
   "metadata": {},
   "outputs": [
    {
     "name": "stdout",
     "output_type": "stream",
     "text": [
      "<class 'int'>\n"
     ]
    }
   ],
   "source": [
    "pruebaRound = round(4.6)\n",
    "print(type(pruebaRound))"
   ]
  },
  {
   "cell_type": "code",
   "execution_count": 95,
   "id": "1012d4de-9be7-48cf-a7b6-45843e6763dc",
   "metadata": {},
   "outputs": [
    {
     "name": "stdout",
     "output_type": "stream",
     "text": [
      "5\n"
     ]
    }
   ],
   "source": [
    "print(pruebaRound)"
   ]
  },
  {
   "cell_type": "code",
   "execution_count": 98,
   "id": "afe62b0f-37fc-4d23-96f7-02539b914ee5",
   "metadata": {},
   "outputs": [
    {
     "name": "stdout",
     "output_type": "stream",
     "text": [
      "4.8\n"
     ]
    }
   ],
   "source": [
    "print(round(4.79777778,1))"
   ]
  },
  {
   "cell_type": "code",
   "execution_count": 99,
   "id": "e0a761bb-d73e-4352-80d5-a99312fa710b",
   "metadata": {},
   "outputs": [
    {
     "data": {
      "text/plain": [
       "(5, 2)"
      ]
     },
     "execution_count": 99,
     "metadata": {},
     "output_type": "execute_result"
    }
   ],
   "source": [
    "divmod(27,5)"
   ]
  },
  {
   "cell_type": "code",
   "execution_count": 100,
   "id": "7fab9eaf-3f98-4736-83a5-fc5688513c21",
   "metadata": {},
   "outputs": [
    {
     "data": {
      "text/plain": [
       "(4, 1)"
      ]
     },
     "execution_count": 100,
     "metadata": {},
     "output_type": "execute_result"
    }
   ],
   "source": [
    "divmod(17,4)"
   ]
  },
  {
   "cell_type": "code",
   "execution_count": 101,
   "id": "33507a86-4f37-4a29-a583-5c8434ab4625",
   "metadata": {},
   "outputs": [
    {
     "data": {
      "text/plain": [
       "(6, 3)"
      ]
     },
     "execution_count": 101,
     "metadata": {},
     "output_type": "execute_result"
    }
   ],
   "source": [
    "divmod(27,4)"
   ]
  },
  {
   "cell_type": "code",
   "execution_count": 102,
   "id": "126eff26-39ba-4012-83d7-5ba8136b6dac",
   "metadata": {},
   "outputs": [
    {
     "data": {
      "text/plain": [
       "tuple"
      ]
     },
     "execution_count": 102,
     "metadata": {},
     "output_type": "execute_result"
    }
   ],
   "source": [
    "G = divmod(34,9)\n",
    "type(G)"
   ]
  },
  {
   "cell_type": "code",
   "execution_count": 103,
   "id": "53130e62-6a12-43e1-a57b-3a861a373254",
   "metadata": {},
   "outputs": [
    {
     "name": "stdout",
     "output_type": "stream",
     "text": [
      "(3, 7)\n"
     ]
    }
   ],
   "source": [
    "print(G)"
   ]
  },
  {
   "cell_type": "code",
   "execution_count": 104,
   "id": "aa5b6db5-9bf0-4108-9d16-5ee54d3270d5",
   "metadata": {},
   "outputs": [
    {
     "data": {
      "text/plain": [
       "3"
      ]
     },
     "execution_count": 104,
     "metadata": {},
     "output_type": "execute_result"
    }
   ],
   "source": [
    "G[0]"
   ]
  },
  {
   "cell_type": "code",
   "execution_count": 105,
   "id": "df653769-9e0d-4dd9-8abc-2dd457ca8f33",
   "metadata": {},
   "outputs": [
    {
     "data": {
      "text/plain": [
       "7"
      ]
     },
     "execution_count": 105,
     "metadata": {},
     "output_type": "execute_result"
    }
   ],
   "source": [
    "G[1]"
   ]
  },
  {
   "cell_type": "code",
   "execution_count": 1,
   "id": "065f4e02-f2ed-45b5-be2d-8a75562a330d",
   "metadata": {},
   "outputs": [
    {
     "data": {
      "text/plain": [
       "7"
      ]
     },
     "execution_count": 1,
     "metadata": {},
     "output_type": "execute_result"
    }
   ],
   "source": [
    "34%9"
   ]
  },
  {
   "cell_type": "code",
   "execution_count": 2,
   "id": "23250f19-e6ab-422c-91cb-934a31f8b114",
   "metadata": {},
   "outputs": [
    {
     "data": {
      "text/plain": [
       "True"
      ]
     },
     "execution_count": 2,
     "metadata": {},
     "output_type": "execute_result"
    }
   ],
   "source": [
    "isinstance(3,int)"
   ]
  },
  {
   "cell_type": "code",
   "execution_count": 4,
   "id": "00fbe205-c218-474a-94a2-ab5041024f1c",
   "metadata": {},
   "outputs": [
    {
     "data": {
      "text/plain": [
       "True"
      ]
     },
     "execution_count": 4,
     "metadata": {},
     "output_type": "execute_result"
    }
   ],
   "source": [
    "isinstance(3.4,(float,int))"
   ]
  },
  {
   "cell_type": "code",
   "execution_count": 5,
   "id": "1730c218-46c9-4813-af55-81ec3539c828",
   "metadata": {},
   "outputs": [
    {
     "data": {
      "text/plain": [
       "True"
      ]
     },
     "execution_count": 5,
     "metadata": {},
     "output_type": "execute_result"
    }
   ],
   "source": [
    "isinstance(3+1j,complex)"
   ]
  },
  {
   "cell_type": "code",
   "execution_count": 6,
   "id": "fc99bdaa-7c87-456d-9bf5-8c21adf4c109",
   "metadata": {},
   "outputs": [
    {
     "data": {
      "text/plain": [
       "True"
      ]
     },
     "execution_count": 6,
     "metadata": {},
     "output_type": "execute_result"
    }
   ],
   "source": [
    "isinstance(1,(float,int,complex))"
   ]
  },
  {
   "cell_type": "code",
   "execution_count": 7,
   "id": "a476924c-5be6-4ce2-8f5a-4807df3159b7",
   "metadata": {},
   "outputs": [
    {
     "data": {
      "text/plain": [
       "False"
      ]
     },
     "execution_count": 7,
     "metadata": {},
     "output_type": "execute_result"
    }
   ],
   "source": [
    "isinstance(1,complex)"
   ]
  },
  {
   "cell_type": "code",
   "execution_count": 8,
   "id": "3f934c75-7385-4102-9f2c-bfc156f4ac57",
   "metadata": {},
   "outputs": [
    {
     "name": "stdin",
     "output_type": "stream",
     "text": [
      "Enter a number : 56\n"
     ]
    }
   ],
   "source": [
    "x = input(\"Enter a number :\")"
   ]
  },
  {
   "cell_type": "code",
   "execution_count": 9,
   "id": "32afb71c-29e4-4cc5-95da-998452c56166",
   "metadata": {},
   "outputs": [
    {
     "data": {
      "text/plain": [
       "str"
      ]
     },
     "execution_count": 9,
     "metadata": {},
     "output_type": "execute_result"
    }
   ],
   "source": [
    "type(x)"
   ]
  },
  {
   "cell_type": "code",
   "execution_count": 10,
   "id": "c8a6154f-b4e5-466c-bc15-274ed2f9be12",
   "metadata": {},
   "outputs": [],
   "source": [
    "x = int(x)"
   ]
  },
  {
   "cell_type": "code",
   "execution_count": 11,
   "id": "a0932d7d-58de-4356-b7cf-60259821af41",
   "metadata": {},
   "outputs": [
    {
     "data": {
      "text/plain": [
       "int"
      ]
     },
     "execution_count": 11,
     "metadata": {},
     "output_type": "execute_result"
    }
   ],
   "source": [
    "type(x)"
   ]
  },
  {
   "cell_type": "code",
   "execution_count": 12,
   "id": "610fb36f-2e03-4e2d-9b3d-793e81ff1964",
   "metadata": {},
   "outputs": [
    {
     "name": "stdin",
     "output_type": "stream",
     "text": [
      "Enter a real number : 12.5\n"
     ]
    }
   ],
   "source": [
    "a = input(\"Enter a real number :\")"
   ]
  },
  {
   "cell_type": "code",
   "execution_count": 13,
   "id": "9133a60c-ba2e-4a13-b036-85ea7daea4cd",
   "metadata": {},
   "outputs": [
    {
     "data": {
      "text/plain": [
       "str"
      ]
     },
     "execution_count": 13,
     "metadata": {},
     "output_type": "execute_result"
    }
   ],
   "source": [
    "type(a)"
   ]
  },
  {
   "cell_type": "code",
   "execution_count": 14,
   "id": "e98e6394-efb3-4c71-af96-666d60ae32bf",
   "metadata": {},
   "outputs": [
    {
     "name": "stdout",
     "output_type": "stream",
     "text": [
      "Help on built-in function pow in module builtins:\n",
      "\n",
      "pow(base, exp, mod=None)\n",
      "    Equivalent to base**exp with 2 arguments or base**exp % mod with 3 arguments\n",
      "    \n",
      "    Some types, such as ints, are able to use a more efficient algorithm when\n",
      "    invoked using the three argument form.\n",
      "\n"
     ]
    }
   ],
   "source": [
    "help(pow)"
   ]
  },
  {
   "cell_type": "code",
   "execution_count": 15,
   "id": "a04e1928-963d-4d01-a5e7-379a5ef2c3f7",
   "metadata": {},
   "outputs": [
    {
     "name": "stdout",
     "output_type": "stream",
     "text": [
      "Help on method raw_input in module ipykernel.kernelbase:\n",
      "\n",
      "raw_input(prompt='') method of ipykernel.ipkernel.IPythonKernel instance\n",
      "    Forward raw_input to frontends\n",
      "    \n",
      "    Raises\n",
      "    ------\n",
      "    StdinNotImplementedError if active frontend doesn't support stdin.\n",
      "\n"
     ]
    }
   ],
   "source": [
    "help(input)"
   ]
  },
  {
   "cell_type": "code",
   "execution_count": 9,
   "id": "7e81915a-ca21-4198-933b-b02d108e4afe",
   "metadata": {},
   "outputs": [
    {
     "name": "stdin",
     "output_type": "stream",
     "text": [
      " 10\n",
      " 1\n"
     ]
    },
    {
     "name": "stdout",
     "output_type": "stream",
     "text": [
      "10\n",
      "I am still inside if condition\n",
      "I am outside the if condition\n"
     ]
    }
   ],
   "source": [
    "a = int(input())\n",
    "b = int(input())\n",
    "if a>b:\n",
    "    print(a)\n",
    "    print(\"I am still inside if condition\")\n",
    "print(\"I am outside the if condition\")"
   ]
  },
  {
   "cell_type": "code",
   "execution_count": 12,
   "id": "823d4346-46fc-4d3e-ab28-7526e8e7ea08",
   "metadata": {},
   "outputs": [
    {
     "name": "stdin",
     "output_type": "stream",
     "text": [
      " 22\n",
      " 4\n"
     ]
    },
    {
     "name": "stdout",
     "output_type": "stream",
     "text": [
      "22\n"
     ]
    }
   ],
   "source": [
    "a = int(input())\n",
    "b = int(input())\n",
    "if a>b:\n",
    "    print(a)\n",
    "if b>a:\n",
    "    print(b)"
   ]
  },
  {
   "cell_type": "code",
   "execution_count": 15,
   "id": "95c4e0e9-319a-46fd-94f2-f5b727673a77",
   "metadata": {},
   "outputs": [
    {
     "name": "stdin",
     "output_type": "stream",
     "text": [
      " 10\n",
      " 100\n"
     ]
    },
    {
     "name": "stdout",
     "output_type": "stream",
     "text": [
      "b is greater than a\n"
     ]
    }
   ],
   "source": [
    "a = int(input())\n",
    "b = int(input())\n",
    "if b>a:\n",
    "    print(\"b is greater than a\")\n",
    "else:\n",
    "    print(\"b is not greater than a\")"
   ]
  },
  {
   "cell_type": "code",
   "execution_count": 20,
   "id": "96a1e979-a9f1-498c-9585-a0d17bdffdc1",
   "metadata": {},
   "outputs": [
    {
     "name": "stdin",
     "output_type": "stream",
     "text": [
      " 10\n",
      " 1\n"
     ]
    },
    {
     "name": "stdout",
     "output_type": "stream",
     "text": [
      "10\n",
      "if part\n"
     ]
    }
   ],
   "source": [
    "a = int(input())\n",
    "b = int(input())\n",
    "if a>b:\n",
    "    print(a)\n",
    "    print(\"if part\")\n",
    "else: \n",
    "    print(b)\n",
    "    print(\"else part\")"
   ]
  },
  {
   "cell_type": "code",
   "execution_count": 25,
   "id": "ac473036-1e84-4b69-b8ad-864d890cd879",
   "metadata": {},
   "outputs": [
    {
     "name": "stdin",
     "output_type": "stream",
     "text": [
      "Enter first number :  100\n",
      "Enter second number :  100.1\n"
     ]
    },
    {
     "name": "stdout",
     "output_type": "stream",
     "text": [
      "b is greater than a\n"
     ]
    }
   ],
   "source": [
    "a = float(input(\"Enter first number : \"))\n",
    "b = float(input(\"Enter second number : \"))\n",
    "if b>a:\n",
    "    print(\"b is greater than a\")\n",
    "elif a==b: \n",
    "    print(\"a and b are equal\")\n",
    "else: \n",
    "    print(\"a is greater than b\")"
   ]
  },
  {
   "cell_type": "code",
   "execution_count": 28,
   "id": "a1d0a847-d294-46c3-b8c7-746ccf6165e0",
   "metadata": {},
   "outputs": [
    {
     "name": "stdin",
     "output_type": "stream",
     "text": [
      "Enter Marks :  7\n"
     ]
    },
    {
     "name": "stdout",
     "output_type": "stream",
     "text": [
      "Below Average\n"
     ]
    }
   ],
   "source": [
    "a = int(input(\"Enter Marks : \"))\n",
    "if a >= 85: \n",
    "    print(\"A Grade\")\n",
    "elif (a < 85) and (a >= 80):\n",
    "    print(\"A- Grade\")\n",
    "elif (a < 80) and (a >= 75): \n",
    "    print(\"B Grade\")\n",
    "elif (a < 75) and (a >= 70):\n",
    "    print(\"B- Grade\")\n",
    "else:\n",
    "    print(\"Below Average\")"
   ]
  },
  {
   "cell_type": "code",
   "execution_count": 33,
   "id": "6a0498e9-0ab2-486b-8083-ab302f9e4a78",
   "metadata": {},
   "outputs": [
    {
     "name": "stdout",
     "output_type": "stream",
     "text": [
      "a>10\n"
     ]
    }
   ],
   "source": [
    "a = 11\n",
    "if a>10: \n",
    "    print(\"a>10\")\n",
    "elif not (a>10):\n",
    "    print(\"Else part\")"
   ]
  },
  {
   "cell_type": "code",
   "execution_count": 42,
   "id": "c17779e3-ab5b-48b3-8369-11a8315f92ca",
   "metadata": {},
   "outputs": [
    {
     "name": "stdin",
     "output_type": "stream",
     "text": [
      " 25\n"
     ]
    },
    {
     "name": "stdout",
     "output_type": "stream",
     "text": [
      ">10\n",
      "Inside the top if\n",
      ">20\n",
      "Inside the nested if\n",
      "<=30\n",
      "Inside the else part of nested if of nested if\n",
      "Outside all ifs\n"
     ]
    }
   ],
   "source": [
    "a = int(input())\n",
    "if a>10:\n",
    "    print(\">10\")\n",
    "    print(\"Inside the top if\")\n",
    "    if a>20:\n",
    "        print(\">20\")\n",
    "        print(\"Inside the nested if\")\n",
    "        if a>30:\n",
    "            print(\">30\")\n",
    "            print(\"Inside the nested if of nested if\")\n",
    "        else:\n",
    "            print(\"<=30\")\n",
    "            print(\"Inside the else part of nested if of nested if\")\n",
    "    else: \n",
    "        print(\"<=20\")\n",
    "        print(\"Inside the else part of nested if\")\n",
    "    print(\"Outside all ifs\")"
   ]
  },
  {
   "cell_type": "code",
   "execution_count": 53,
   "id": "0546e533-56ad-459a-af1c-c1a2bb582a1d",
   "metadata": {},
   "outputs": [
    {
     "name": "stdin",
     "output_type": "stream",
     "text": [
      "Enter a real number :  1.6\n"
     ]
    },
    {
     "name": "stdout",
     "output_type": "stream",
     "text": [
      "1\n"
     ]
    }
   ],
   "source": [
    "# single line comment\n",
    "'''\n",
    "User will enter a floating point number. Your task is to find out that integer portion before the point\n",
    "and then check if that integer portion is an even number or not.\n",
    "Es decir, te devuelve siempre el número obviando la parte decimal. \n",
    "Por ej. Si introduces 45.8, siempre va a devolverte 45. \n",
    "'''\n",
    "x = float(input(\"Enter a real number : \"))\n",
    "y = round(x)\n",
    "if y>x: \n",
    "    intPortion = y-1\n",
    "else: \n",
    "    intPortion = y\n",
    "print(intPortion)"
   ]
  },
  {
   "cell_type": "markdown",
   "id": "0bb1a60b-ae33-4ef8-9c0d-820b4870ca89",
   "metadata": {},
   "source": [
    "# Functions"
   ]
  },
  {
   "cell_type": "code",
   "execution_count": 15,
   "id": "abd52d7b-3516-428f-b238-8943f1fe9f9c",
   "metadata": {},
   "outputs": [
    {
     "name": "stdout",
     "output_type": "stream",
     "text": [
      "15\n"
     ]
    }
   ],
   "source": [
    "def suma_tres_elementos(a, b, c):\n",
    "    resultado = a + b + c\n",
    "    return resultado\n",
    "\n",
    "resultado_suma = suma_tres_elementos(3, 5, 7)\n",
    "print(resultado_suma)  # Output: 15"
   ]
  },
  {
   "cell_type": "code",
   "execution_count": 16,
   "id": "0093704b-93fc-43e6-943c-5e6e0befd434",
   "metadata": {},
   "outputs": [],
   "source": [
    "def printSuccess():\n",
    "    print(\"I am done\")\n",
    "    print(\"Send me another task\")"
   ]
  },
  {
   "cell_type": "code",
   "execution_count": 19,
   "id": "419c695a-077c-4b4c-bfaa-44f31e0ffe53",
   "metadata": {},
   "outputs": [
    {
     "name": "stdout",
     "output_type": "stream",
     "text": [
      "I am done\n",
      "Send me another task\n"
     ]
    }
   ],
   "source": [
    "printSuccess() # call the function"
   ]
  },
  {
   "cell_type": "code",
   "execution_count": 20,
   "id": "565afa4d-40d6-47b7-9c9a-5e6f2e315d59",
   "metadata": {},
   "outputs": [],
   "source": [
    "def printSuccess2():\n",
    "    \"\"\"\n",
    "    Esta función no hace absolutamente nada\n",
    "    \"\"\"\n",
    "    print(\"Hola\")"
   ]
  },
  {
   "cell_type": "code",
   "execution_count": 21,
   "id": "7b083de7-4bcc-4913-9ec8-6f1010832001",
   "metadata": {},
   "outputs": [
    {
     "name": "stdout",
     "output_type": "stream",
     "text": [
      "Help on function printSuccess2 in module __main__:\n",
      "\n",
      "printSuccess2()\n",
      "    Esta función no hace absolutamente nada\n",
      "\n"
     ]
    }
   ],
   "source": [
    "help(printSuccess2)"
   ]
  },
  {
   "cell_type": "code",
   "execution_count": 22,
   "id": "30af07e6-a86d-478c-a09e-0702a97e2f4d",
   "metadata": {},
   "outputs": [
    {
     "name": "stdout",
     "output_type": "stream",
     "text": [
      "Hola\n"
     ]
    }
   ],
   "source": [
    "printSuccess2()"
   ]
  },
  {
   "cell_type": "code",
   "execution_count": 38,
   "id": "d33264c8-ea3b-4a36-9dd9-b0ff6b645f99",
   "metadata": {},
   "outputs": [],
   "source": [
    "def printMsg(msg):\n",
    "    \"\"\" The function prints the message supplied by the user \n",
    "    or prints that msg is not in the form of string \"\"\"\n",
    "    \n",
    "    if isinstance (msg,str):\n",
    "        print(msg)\n",
    "        print(\"Your message is a string type\")\n",
    "    else: \n",
    "        print(\"Your input argument is not a string\")\n",
    "        print(\"Here is the type of what you hace supplied :\", type(msg))"
   ]
  },
  {
   "cell_type": "code",
   "execution_count": 39,
   "id": "4f6b7399-57e7-43f1-b3b8-9aea755e8e33",
   "metadata": {},
   "outputs": [
    {
     "name": "stdout",
     "output_type": "stream",
     "text": [
      "Hola Pollo\n",
      "Your message is a string type\n"
     ]
    }
   ],
   "source": [
    "printMsg(\"Hola Pollo\")"
   ]
  },
  {
   "cell_type": "code",
   "execution_count": 40,
   "id": "22346fb2-106e-49c6-bc7c-1aa57e91e975",
   "metadata": {},
   "outputs": [
    {
     "name": "stdout",
     "output_type": "stream",
     "text": [
      "Your input argument is not a string\n",
      "Here is the type of what you hace supplied : <class 'int'>\n"
     ]
    }
   ],
   "source": [
    "printMsg(18)"
   ]
  },
  {
   "cell_type": "code",
   "execution_count": 41,
   "id": "26136e45-5870-468a-9a77-028332817d80",
   "metadata": {},
   "outputs": [],
   "source": [
    "def print_message(msg):\n",
    "    if isinstance(msg, str):\n",
    "        print(msg)\n",
    "    else:\n",
    "        print(\"The message is not in the form of a string.\")"
   ]
  },
  {
   "cell_type": "code",
   "execution_count": 42,
   "id": "6f4b3aee-11aa-412d-bcb0-5928d259ed66",
   "metadata": {},
   "outputs": [
    {
     "name": "stdout",
     "output_type": "stream",
     "text": [
      "Hello, world!\n"
     ]
    }
   ],
   "source": [
    "# Test the function\n",
    "print_message(\"Hello, world!\")  # Output: Hello, world!\n",
    "\n"
   ]
  },
  {
   "cell_type": "code",
   "execution_count": 43,
   "id": "4458016b-4920-4a85-b540-2c7254047d4c",
   "metadata": {},
   "outputs": [
    {
     "name": "stdout",
     "output_type": "stream",
     "text": [
      "The message is not in the form of a string.\n"
     ]
    }
   ],
   "source": [
    "print_message(123)              # Output: The message is not in the form of a string."
   ]
  },
  {
   "cell_type": "code",
   "execution_count": 44,
   "id": "da0cb2dc-1502-48c6-902d-3621fc930136",
   "metadata": {},
   "outputs": [],
   "source": [
    "# Esta función eleva la base a un exponente determinado\n",
    "def mypow(a,b):\n",
    "    \"\"\" this function computes power just like builtin power function \"\"\"\n",
    "    c = a**b\n",
    "    print(c)"
   ]
  },
  {
   "cell_type": "code",
   "execution_count": 46,
   "id": "fa9830a2-8b94-40d9-8c0f-a0c6b79a220f",
   "metadata": {},
   "outputs": [
    {
     "name": "stdout",
     "output_type": "stream",
     "text": [
      "9\n"
     ]
    }
   ],
   "source": [
    "mypow(3,2)"
   ]
  },
  {
   "cell_type": "code",
   "execution_count": 56,
   "id": "dad7ce58-996e-45c2-a8aa-e6c5ce249a50",
   "metadata": {},
   "outputs": [],
   "source": [
    "def checkArgs(a,b,c):\n",
    "    if isinstance(a,(int,float)) and isinstance(b,(int,float)) and isinstance(c,(int,float)):\n",
    "      print((a+b+c)**2)\n",
    "    else: \n",
    "        print(\"Error: the input arguments are not of the expected types\")"
   ]
  },
  {
   "cell_type": "code",
   "execution_count": 57,
   "id": "fd35e064-2abf-4e02-bc52-66987a43174f",
   "metadata": {},
   "outputs": [
    {
     "name": "stdout",
     "output_type": "stream",
     "text": [
      "144\n"
     ]
    }
   ],
   "source": [
    "checkArgs(3,4,5)"
   ]
  },
  {
   "cell_type": "code",
   "execution_count": 58,
   "id": "54bea51e-ff6d-4142-b21e-87aba12cf323",
   "metadata": {},
   "outputs": [
    {
     "name": "stdout",
     "output_type": "stream",
     "text": [
      "Error: the input arguments are not of the expected types\n"
     ]
    }
   ],
   "source": [
    "checkArgs(3,4,\"g\")"
   ]
  },
  {
   "cell_type": "code",
   "execution_count": 60,
   "id": "2e34aa55-8113-46b1-9aae-613e486585ed",
   "metadata": {},
   "outputs": [],
   "source": [
    "def f(a,b,c):\n",
    "    print(\"A is :\",a)\n",
    "    print(\"B is :\",b)\n",
    "    print(\"C is :\",c)"
   ]
  },
  {
   "cell_type": "code",
   "execution_count": 62,
   "id": "e0ff98be-f0d2-4343-b56a-aaf48405e59c",
   "metadata": {},
   "outputs": [
    {
     "name": "stdout",
     "output_type": "stream",
     "text": [
      "A is : 3\n",
      "B is : game\n",
      "C is : 2\n"
     ]
    }
   ],
   "source": [
    "#f(2,3,\"game\")\n",
    "f(3,\"game\",2)"
   ]
  },
  {
   "cell_type": "code",
   "execution_count": 63,
   "id": "f98bb1eb-a1f6-446a-adbb-a21127f61ea6",
   "metadata": {},
   "outputs": [
    {
     "name": "stdout",
     "output_type": "stream",
     "text": [
      "A is : 2\n",
      "B is : 3\n",
      "C is : game\n"
     ]
    }
   ],
   "source": [
    "f(a=2,b=3,c=\"game\") #Establecemos un orden"
   ]
  },
  {
   "cell_type": "code",
   "execution_count": 1,
   "id": "5f0004e1-4512-40bf-86b6-6e45b70de817",
   "metadata": {},
   "outputs": [],
   "source": [
    "def myadd(a,b):\n",
    "    sumValue = a+b\n",
    "    return sumValue"
   ]
  },
  {
   "cell_type": "code",
   "execution_count": 2,
   "id": "312d3845-fe69-459b-8d59-5bba9ecd18dd",
   "metadata": {},
   "outputs": [
    {
     "name": "stdout",
     "output_type": "stream",
     "text": [
      "5\n"
     ]
    }
   ],
   "source": [
    "d = myadd(2,3)\n",
    "print(d)"
   ]
  },
  {
   "cell_type": "code",
   "execution_count": 3,
   "id": "6373b62e-cb6e-4a2e-b429-c93f43d5490c",
   "metadata": {},
   "outputs": [],
   "source": [
    "variableOutsideTheFunction = 3\n"
   ]
  },
  {
   "cell_type": "code",
   "execution_count": 6,
   "id": "e7782405-54a9-40cb-a646-1cc119fd79b7",
   "metadata": {},
   "outputs": [],
   "source": [
    "def g():\n",
    "    variableOutsideTheFunction = 5\n",
    "    print(variableOutsideTheFunction)"
   ]
  },
  {
   "cell_type": "code",
   "execution_count": 7,
   "id": "50ba754a-b3f1-4a1e-949b-cc2c75c0c0bf",
   "metadata": {},
   "outputs": [
    {
     "name": "stdout",
     "output_type": "stream",
     "text": [
      "5\n"
     ]
    }
   ],
   "source": [
    "g()"
   ]
  },
  {
   "cell_type": "code",
   "execution_count": 8,
   "id": "16916189-f5f3-45b9-a215-65d997c963d7",
   "metadata": {},
   "outputs": [
    {
     "name": "stdout",
     "output_type": "stream",
     "text": [
      "3\n"
     ]
    }
   ],
   "source": [
    "print(variableOutsideTheFunction)"
   ]
  },
  {
   "cell_type": "code",
   "execution_count": 11,
   "id": "c9177e5f-95c5-46c9-828b-b6042f31feff",
   "metadata": {},
   "outputs": [
    {
     "name": "stdout",
     "output_type": "stream",
     "text": [
      "Galo\n",
      "Gustavo\n",
      "Francisco\n"
     ]
    }
   ],
   "source": [
    "alumnos = [\"Galo\", \"Gustavo\", \"Francisco\"] #Loops are block of code repeatedly based on a condition\n",
    "for alumno in alumnos:\n",
    "    print(alumno)"
   ]
  },
  {
   "cell_type": "code",
   "execution_count": 14,
   "id": "a957efa6-1621-499e-8049-5e021a2e4550",
   "metadata": {},
   "outputs": [],
   "source": [
    "#Esta funcion suma todos los argumentos que le especifiques: print(myAddUniversal(a,b,c))\n",
    "def myAddUniversal(*args):\n",
    "    s = 0\n",
    "    for i in range(len(args)):\n",
    "        s += args[i] \n",
    "    return s"
   ]
  },
  {
   "cell_type": "code",
   "execution_count": 15,
   "id": "55b690b3-204b-48c5-a7b5-8142ca19be5b",
   "metadata": {},
   "outputs": [
    {
     "name": "stdout",
     "output_type": "stream",
     "text": [
      "15\n"
     ]
    }
   ],
   "source": [
    "print(myAddUniversal(1,2,3,4,5))"
   ]
  },
  {
   "cell_type": "markdown",
   "id": "dab23e95-7b55-44c7-85ce-47a7719347ac",
   "metadata": {},
   "source": [
    "# Modules"
   ]
  },
  {
   "cell_type": "markdown",
   "id": "20da7df5-56cc-463c-ae06-f2db0819b9d5",
   "metadata": {},
   "source": [
    "### a module is a python file that contain code: specially functions"
   ]
  },
  {
   "cell_type": "markdown",
   "id": "48d925c7-6d4d-47dd-b954-06ea17b9b4b2",
   "metadata": {},
   "source": [
    "#### example: "
   ]
  },
  {
   "cell_type": "code",
   "execution_count": 7,
   "id": "bc193990-4a25-47ec-85e3-d314f304037a",
   "metadata": {},
   "outputs": [],
   "source": [
    "import sys"
   ]
  },
  {
   "cell_type": "code",
   "execution_count": 8,
   "id": "b540bcad-78a6-4498-93d0-cd37207dd0ae",
   "metadata": {},
   "outputs": [],
   "source": [
    "sys.path.append('C:/modules/')"
   ]
  },
  {
   "cell_type": "code",
   "execution_count": 9,
   "id": "9feed354-e16b-4475-9af3-92c3c2448632",
   "metadata": {},
   "outputs": [],
   "source": [
    "import my_universal_functions as myfs"
   ]
  },
  {
   "cell_type": "code",
   "execution_count": 12,
   "id": "c1e452fa-5a69-462e-b5b9-4847ace0236d",
   "metadata": {},
   "outputs": [
    {
     "data": {
      "text/plain": [
       "\u001b[1;31mSignature:\u001b[0m \u001b[0mmyfs\u001b[0m\u001b[1;33m.\u001b[0m\u001b[0maddAllNumerics\u001b[0m\u001b[1;33m(\u001b[0m\u001b[1;33m*\u001b[0m\u001b[0margs\u001b[0m\u001b[1;33m)\u001b[0m\u001b[1;33m\u001b[0m\u001b[1;33m\u001b[0m\u001b[0m\n",
       "\u001b[1;31mDocstring:\u001b[0m <no docstring>\n",
       "\u001b[1;31mSource:\u001b[0m   \n",
       "\u001b[1;32mdef\u001b[0m \u001b[0maddAllNumerics\u001b[0m\u001b[1;33m(\u001b[0m\u001b[1;33m*\u001b[0m\u001b[0margs\u001b[0m\u001b[1;33m)\u001b[0m\u001b[1;33m:\u001b[0m\u001b[1;33m\n",
       "\u001b[0m    \u001b[0ms\u001b[0m \u001b[1;33m=\u001b[0m \u001b[1;36m0\u001b[0m\u001b[1;33m\n",
       "\u001b[0m    \u001b[1;32mfor\u001b[0m \u001b[0mx\u001b[0m \u001b[1;32min\u001b[0m \u001b[0margs\u001b[0m\u001b[1;33m:\u001b[0m\u001b[1;33m\n",
       "\u001b[0m        \u001b[0ms\u001b[0m\u001b[1;33m+=\u001b[0m\u001b[0mx\u001b[0m\u001b[1;33m\n",
       "\u001b[0m    \u001b[1;32mreturn\u001b[0m \u001b[0ms\u001b[0m\u001b[1;33m\u001b[0m\u001b[1;33m\u001b[0m\u001b[0m\n",
       "\u001b[1;31mFile:\u001b[0m      c:\\users\\usuario\\my_universal_functions.py\n",
       "\u001b[1;31mType:\u001b[0m      function"
      ]
     },
     "metadata": {},
     "output_type": "display_data"
    }
   ],
   "source": [
    "myfs.addAllNumerics??"
   ]
  },
  {
   "cell_type": "code",
   "execution_count": 13,
   "id": "3559fa5f-21b2-4f9b-861c-e926c1cf18a1",
   "metadata": {},
   "outputs": [
    {
     "data": {
      "text/plain": [
       "\u001b[1;31mSignature:\u001b[0m \u001b[0mmyfs\u001b[0m\u001b[1;33m.\u001b[0m\u001b[0mcheckIfNotNumeric\u001b[0m\u001b[1;33m(\u001b[0m\u001b[1;33m*\u001b[0m\u001b[0margs\u001b[0m\u001b[1;33m)\u001b[0m\u001b[1;33m\u001b[0m\u001b[1;33m\u001b[0m\u001b[0m\n",
       "\u001b[1;31mDocstring:\u001b[0m <no docstring>\n",
       "\u001b[1;31mSource:\u001b[0m   \n",
       "\u001b[1;32mdef\u001b[0m \u001b[0mcheckIfNotNumeric\u001b[0m\u001b[1;33m(\u001b[0m\u001b[1;33m*\u001b[0m\u001b[0margs\u001b[0m\u001b[1;33m)\u001b[0m\u001b[1;33m:\u001b[0m\u001b[1;33m\n",
       "\u001b[0m    \u001b[1;32mfor\u001b[0m \u001b[0mx\u001b[0m \u001b[1;32min\u001b[0m \u001b[0margs\u001b[0m\u001b[1;33m:\u001b[0m\u001b[1;33m\n",
       "\u001b[0m        \u001b[1;32mif\u001b[0m \u001b[1;32mnot\u001b[0m \u001b[1;33m(\u001b[0m\u001b[0misinstance\u001b[0m\u001b[1;33m(\u001b[0m\u001b[0mx\u001b[0m\u001b[1;33m,\u001b[0m\u001b[1;33m(\u001b[0m\u001b[0mint\u001b[0m\u001b[1;33m,\u001b[0m\u001b[0mfloat\u001b[0m\u001b[1;33m)\u001b[0m\u001b[1;33m)\u001b[0m\u001b[1;33m)\u001b[0m\u001b[1;33m:\u001b[0m\u001b[1;33m\n",
       "\u001b[0m            \u001b[1;32mreturn\u001b[0m \u001b[1;32mFalse\u001b[0m\u001b[1;33m\n",
       "\u001b[0m        \u001b[1;32mreturn\u001b[0m \u001b[1;32mTrue\u001b[0m\u001b[1;33m\u001b[0m\u001b[1;33m\u001b[0m\u001b[0m\n",
       "\u001b[1;31mFile:\u001b[0m      c:\\users\\usuario\\my_universal_functions.py\n",
       "\u001b[1;31mType:\u001b[0m      function"
      ]
     },
     "metadata": {},
     "output_type": "display_data"
    }
   ],
   "source": [
    "myfs.checkIfNotNumeric??"
   ]
  },
  {
   "cell_type": "code",
   "execution_count": 19,
   "id": "8f274a56-766c-4d68-bd90-a14e5ff580df",
   "metadata": {},
   "outputs": [
    {
     "data": {
      "text/plain": [
       "'Python Course'"
      ]
     },
     "execution_count": 19,
     "metadata": {},
     "output_type": "execute_result"
    }
   ],
   "source": [
    "myfs.myName"
   ]
  },
  {
   "cell_type": "code",
   "execution_count": 20,
   "id": "27265588-e12b-4d6a-aa7d-0931cb26d8bd",
   "metadata": {},
   "outputs": [
    {
     "data": {
      "text/plain": [
       "True"
      ]
     },
     "execution_count": 20,
     "metadata": {},
     "output_type": "execute_result"
    }
   ],
   "source": [
    "myfs.checkIfNotNumeric(1)"
   ]
  },
  {
   "cell_type": "code",
   "execution_count": 24,
   "id": "c8addf8f-06fc-4849-9952-98d05c9857a3",
   "metadata": {},
   "outputs": [
    {
     "data": {
      "text/plain": [
       "15"
      ]
     },
     "execution_count": 24,
     "metadata": {},
     "output_type": "execute_result"
    }
   ],
   "source": [
    "myfs.addAllNumerics(1,2,3,4,5)"
   ]
  },
  {
   "cell_type": "code",
   "execution_count": 1,
   "id": "d772229f-110d-49f0-8159-462b68dfec0b",
   "metadata": {},
   "outputs": [
    {
     "name": "stdout",
     "output_type": "stream",
     "text": [
      "Original list: [5, 2, 9, 1, 5, 6]\n",
      "Sorted list: [1, 2, 5, 5, 6, 9]\n"
     ]
    }
   ],
   "source": [
    "def sort_numbers(numbers):\n",
    "    \"\"\"\n",
    "    This function takes a list of numbers and returns a new list with the numbers sorted in ascending order.\n",
    "    \n",
    "    :param numbers: List of numbers to be sorted\n",
    "    :return: New list of numbers sorted in ascending order\n",
    "    \"\"\"\n",
    "    return sorted(numbers)\n",
    "\n",
    "# Example usage:\n",
    "original_list = [5, 2, 9, 1, 5, 6]\n",
    "sorted_list = sort_numbers(original_list)\n",
    "print(\"Original list:\", original_list)\n",
    "print(\"Sorted list:\", sorted_list)\n"
   ]
  },
  {
   "cell_type": "markdown",
   "id": "ae6ce43e-8e22-44ca-bbed-f17fd7339316",
   "metadata": {},
   "source": [
    "## Strings"
   ]
  },
  {
   "cell_type": "markdown",
   "id": "c8d7ac83-3b13-457f-b68c-f01d8c959a39",
   "metadata": {},
   "source": [
    "### Is a data type in Python"
   ]
  },
  {
   "cell_type": "code",
   "execution_count": 2,
   "id": "78239461-722d-4858-8c29-b7477810d195",
   "metadata": {},
   "outputs": [
    {
     "name": "stdout",
     "output_type": "stream",
     "text": [
      "HolaMundo\n"
     ]
    }
   ],
   "source": [
    "s = \"Hola\"\n",
    "t = \"Mundo\"\n",
    "st = s + t \n",
    "print(st)"
   ]
  },
  {
   "cell_type": "code",
   "execution_count": 3,
   "id": "7e025ff2-05bf-4b48-89b2-101d13da7830",
   "metadata": {},
   "outputs": [
    {
     "data": {
      "text/plain": [
       "str"
      ]
     },
     "execution_count": 3,
     "metadata": {},
     "output_type": "execute_result"
    }
   ],
   "source": [
    "type(st)"
   ]
  },
  {
   "cell_type": "code",
   "execution_count": 9,
   "id": "b3361e81-8aa8-4b50-8945-cbd31ae59fbe",
   "metadata": {},
   "outputs": [
    {
     "name": "stdout",
     "output_type": "stream",
     "text": [
      "r\n"
     ]
    }
   ],
   "source": [
    "s = \"How are you and who are you\" # indexing starts from 0\n",
    "print(s[5])"
   ]
  },
  {
   "cell_type": "code",
   "execution_count": 10,
   "id": "869b49cc-c1ea-451c-a799-2b698d8a34b3",
   "metadata": {},
   "outputs": [
    {
     "data": {
      "text/plain": [
       "str"
      ]
     },
     "execution_count": 10,
     "metadata": {},
     "output_type": "execute_result"
    }
   ],
   "source": [
    "type(s[5])"
   ]
  },
  {
   "cell_type": "code",
   "execution_count": 22,
   "id": "7fdd251c-6761-4f3c-9022-7a9a85d7f023",
   "metadata": {},
   "outputs": [
    {
     "data": {
      "text/plain": [
       "'How are yo'"
      ]
     },
     "execution_count": 22,
     "metadata": {},
     "output_type": "execute_result"
    }
   ],
   "source": [
    "s[0:10]"
   ]
  },
  {
   "cell_type": "code",
   "execution_count": 24,
   "id": "9003fc6d-0e47-4a3c-bfef-180f1d892f01",
   "metadata": {},
   "outputs": [
    {
     "data": {
      "text/plain": [
       "'y'"
      ]
     },
     "execution_count": 24,
     "metadata": {},
     "output_type": "execute_result"
    }
   ],
   "source": [
    "s[-3] # empieza por el final del string"
   ]
  },
  {
   "cell_type": "code",
   "execution_count": 26,
   "id": "44e9ea75-36e8-4223-ae9e-1dbfbc5bb472",
   "metadata": {},
   "outputs": [
    {
     "data": {
      "text/plain": [
       "'Hwaey'"
      ]
     },
     "execution_count": 26,
     "metadata": {},
     "output_type": "execute_result"
    }
   ],
   "source": [
    "s[0:10:2]"
   ]
  },
  {
   "cell_type": "markdown",
   "id": "8640c58a-2af9-4e13-830c-dd529df5cdbc",
   "metadata": {},
   "source": [
    "### Other data structures in Python"
   ]
  },
  {
   "cell_type": "code",
   "execution_count": 31,
   "id": "8d574b68-0e1b-4ae3-a799-349222a1da20",
   "metadata": {},
   "outputs": [],
   "source": [
    "L = [1,3,4.9,\"name\",3] #List: usamos corchetes.\n",
    "T = (1,3,4.9,\"name\",3) #Tuple: usamos parentesis. \n",
    "S = {1,3,4.9,\"name\",3} #Set: parentesis raros\n",
    "D = {23:\"twothree\",'B':43,'C':'CCD'} #Dictionary: a type of Set. Each element is a pair. "
   ]
  },
  {
   "cell_type": "code",
   "execution_count": 33,
   "id": "f477ae0d-0f36-4797-9f67-83b19b1533ac",
   "metadata": {},
   "outputs": [
    {
     "name": "stdout",
     "output_type": "stream",
     "text": [
      "The type of L is  <class 'list'>\n",
      "The type of T is  <class 'tuple'>\n",
      "The type of S is  <class 'set'>\n",
      "The type of D is  <class 'dict'>\n"
     ]
    }
   ],
   "source": [
    "print(\"The type of L is \", type(L))\n",
    "print(\"The type of T is \", type(T))\n",
    "print(\"The type of S is \", type(S))\n",
    "print(\"The type of D is \", type(D))"
   ]
  },
  {
   "cell_type": "markdown",
   "id": "45a0a065-942a-41f4-acfa-f378bb69851e",
   "metadata": {},
   "source": [
    "#### Seleccionamos elementos de cara data structure"
   ]
  },
  {
   "cell_type": "code",
   "execution_count": 37,
   "id": "9d6b10b3-ccff-4a57-bcb7-48adf11ebabc",
   "metadata": {},
   "outputs": [
    {
     "name": "stdout",
     "output_type": "stream",
     "text": [
      "3\n",
      "3\n",
      "True\n",
      "twothree\n"
     ]
    }
   ],
   "source": [
    "print(L[1])\n",
    "print(T[1])\n",
    "print(3 in S)\n",
    "print(D[23])"
   ]
  },
  {
   "cell_type": "code",
   "execution_count": 38,
   "id": "a32b0a1d-143c-4f7e-a654-87cdb74a9db1",
   "metadata": {},
   "outputs": [
    {
     "data": {
      "text/plain": [
       "{1, 3, 4.9, 'name'}"
      ]
     },
     "execution_count": 38,
     "metadata": {},
     "output_type": "execute_result"
    }
   ],
   "source": [
    "S"
   ]
  },
  {
   "cell_type": "code",
   "execution_count": 40,
   "id": "432e5c66-823b-4983-8f83-cb70d474a845",
   "metadata": {},
   "outputs": [
    {
     "data": {
      "text/plain": [
       "[3, 'name', 4.9, 3, 1]"
      ]
     },
     "execution_count": 40,
     "metadata": {},
     "output_type": "execute_result"
    }
   ],
   "source": [
    "L[::-1] #Accedemos a los elementos de la lista empezando por el final de esta"
   ]
  },
  {
   "cell_type": "code",
   "execution_count": 52,
   "id": "a2988625-deb5-4077-9d8f-c707c117718c",
   "metadata": {},
   "outputs": [
    {
     "name": "stdout",
     "output_type": "stream",
     "text": [
      "{1, 2, 3, 'name', 4.9, 'nombre', 4, 'cinco', 'seis'}\n"
     ]
    }
   ],
   "source": [
    "S.update({1,2,3,4,\"cinco\",\"seis\"}) #Insertamos nuevos valores del Set data structure\n",
    "print(S)"
   ]
  },
  {
   "cell_type": "code",
   "execution_count": 56,
   "id": "b0f13842-ceaa-4740-a270-974b1f5797bd",
   "metadata": {},
   "outputs": [],
   "source": [
    "D['newKey'] = \"newValue\" #Insertamos un nuevo valor en pares al data structure Dictionary (D)"
   ]
  },
  {
   "cell_type": "code",
   "execution_count": 55,
   "id": "c975d85c-ba73-4c92-8f7b-ee65f09ab8a9",
   "metadata": {},
   "outputs": [
    {
     "data": {
      "text/plain": [
       "{23: 'twothree', 'B': 43, 'C': 'CCD', 'newKey': 'newValue'}"
      ]
     },
     "execution_count": 55,
     "metadata": {},
     "output_type": "execute_result"
    }
   ],
   "source": [
    "D"
   ]
  },
  {
   "cell_type": "code",
   "execution_count": 59,
   "id": "1b135f3f-7113-403f-9492-74fa38135024",
   "metadata": {},
   "outputs": [],
   "source": [
    "D['newKey2'] = \"newValue2\" #Insertamos un nuevo valor en pares al data structure Dictionary (D)"
   ]
  },
  {
   "cell_type": "code",
   "execution_count": 58,
   "id": "0aa369da-ff79-4d20-acff-828142c0c4dd",
   "metadata": {},
   "outputs": [
    {
     "data": {
      "text/plain": [
       "{23: 'twothree',\n",
       " 'B': 43,\n",
       " 'C': 'CCD',\n",
       " 'newKey': 'newValue',\n",
       " 'newKey2': 'newValue2'}"
      ]
     },
     "execution_count": 58,
     "metadata": {},
     "output_type": "execute_result"
    }
   ],
   "source": [
    "D"
   ]
  },
  {
   "cell_type": "code",
   "execution_count": 61,
   "id": "b9e31dd2-c167-46c7-9274-ab3f5a4dc0b2",
   "metadata": {},
   "outputs": [
    {
     "name": "stdout",
     "output_type": "stream",
     "text": [
      "{'a': 1, 'b': 2, 'c': 3, 'd': 4}\n"
     ]
    }
   ],
   "source": [
    "# Define two dictionaries\n",
    "dict1 = {'a': 1, 'b': 2}\n",
    "dict2 = {'c': 3, 'd': 4}\n",
    "\n",
    "# Using the ** operator to merge dic1 and dict2\n",
    "merged_dict = {**dict1, **dict2}\n",
    "\n",
    "print(merged_dict)  # Output: {'a': 1, 'b': 2, 'c': 3, 'd': 4}"
   ]
  },
  {
   "cell_type": "code",
   "execution_count": 63,
   "id": "090291a2-298a-42a3-836b-d75910b3941a",
   "metadata": {},
   "outputs": [
    {
     "name": "stdout",
     "output_type": "stream",
     "text": [
      "{23: 'twothree', 'B': 43, 'C': 'CCD', 'newKey': 'newValue', 'newKey2': 'newValue2', 'y': 'YY', 'z': 10}\n"
     ]
    }
   ],
   "source": [
    "D2 = {'y': 'YY', 'z': 10}\n",
    "merged_dict2 = {**D, **D2}\n",
    "print(merged_dict2)"
   ]
  },
  {
   "cell_type": "code",
   "execution_count": 64,
   "id": "dacb5d51-25fd-4c95-a418-b1378cfddc1f",
   "metadata": {},
   "outputs": [
    {
     "data": {
      "text/plain": [
       "{1, 2, 4, 4.9, 'cinco', 'name', 'nombre', 'seis'}"
      ]
     },
     "execution_count": 64,
     "metadata": {},
     "output_type": "execute_result"
    }
   ],
   "source": [
    "S.remove(3)\n",
    "S"
   ]
  },
  {
   "cell_type": "code",
   "execution_count": 65,
   "id": "bde72144-1d22-4373-84fa-5016b20c3bf9",
   "metadata": {},
   "outputs": [
    {
     "data": {
      "text/plain": [
       "{1, 2, 4, 4.9, 'name', 'nombre', 'seis'}"
      ]
     },
     "execution_count": 65,
     "metadata": {},
     "output_type": "execute_result"
    }
   ],
   "source": [
    "S.remove(\"cinco\")\n",
    "S"
   ]
  },
  {
   "cell_type": "code",
   "execution_count": 4,
   "id": "951e376c-844c-49c9-9449-0b847ba59634",
   "metadata": {},
   "outputs": [],
   "source": [
    "\"\"\"\n",
    "Let say you are a teacher and you have different student records containing\n",
    "ID of student and the marks list in each subject where different students\n",
    "have taken different number of subjects. All these records are in hard copy. \n",
    "You want to enter all the data in computer and want to compute average marks\n",
    "of each student and display\n",
    "\"\"\"\n",
    "\n",
    "def getDataFromUser():\n",
    "    D = {}\n",
    "    while True:\n",
    "        studentId = input(\"Enter student ID: \")\n",
    "        marksList = input(\"Enter the marks by comma separated values: \")\n",
    "        moreStudents = input('Enter \"no\" to quit insertion: ')\n",
    "        if studentId in D:\n",
    "            print(studentId, \"is already inserted\")\n",
    "        else:\n",
    "            D[studentId] = marksList.split(\",\")\n",
    "        if moreStudents.lower() == \"no\":\n",
    "            return D"
   ]
  },
  {
   "cell_type": "code",
   "execution_count": 5,
   "id": "8f06f274-c64e-4c54-87e7-f97cebe13f80",
   "metadata": {},
   "outputs": [
    {
     "name": "stdin",
     "output_type": "stream",
     "text": [
      "Enter student ID:  12\n",
      "Enter the marks by comma separated values:  56,45,13\n",
      "Enter \"no\" to quit insertion:  asdf\n",
      "Enter student ID:  45\n",
      "Enter the marks by comma separated values:  44,55,66,77,4\n",
      "Enter \"no\" to quit insertion:  asdfa\n",
      "Enter student ID:  12\n",
      "Enter the marks by comma separated values:  45,45\n",
      "Enter \"no\" to quit insertion:  asdfa\n"
     ]
    },
    {
     "name": "stdout",
     "output_type": "stream",
     "text": [
      "12 is already inserted\n"
     ]
    },
    {
     "name": "stdin",
     "output_type": "stream",
     "text": [
      "Enter student ID:  23\n",
      "Enter the marks by comma separated values:  45,45\n",
      "Enter \"no\" to quit insertion:  no\n"
     ]
    }
   ],
   "source": [
    "studentData = getDataFromUser()"
   ]
  },
  {
   "cell_type": "code",
   "execution_count": 8,
   "id": "b0593402-0bb5-4a0e-ac7d-8fcde9f2ff9f",
   "metadata": {},
   "outputs": [
    {
     "data": {
      "text/plain": [
       "{'12': ['56', '45', '13'],\n",
       " '45': ['44', '55', '66', '77', '4'],\n",
       " '23': ['45', '45']}"
      ]
     },
     "execution_count": 8,
     "metadata": {},
     "output_type": "execute_result"
    }
   ],
   "source": [
    "studentData #Show the dictionary with the marks of each student with its ID. The dictionary contains lists"
   ]
  },
  {
   "cell_type": "code",
   "execution_count": 22,
   "id": "49abeb7e-dc00-4b2c-a0b3-9912e8e2f1fd",
   "metadata": {},
   "outputs": [],
   "source": [
    "def getAvgMarks(D):\n",
    "    avgMarks = {}\n",
    "    for x in D: \n",
    "       L = D[x]\n",
    "       s = 0\n",
    "       for marks in L:\n",
    "           s += int(marks)\n",
    "       avgMarks[x] = s/len(L)\n",
    "    return avgMarks"
   ]
  },
  {
   "cell_type": "code",
   "execution_count": 26,
   "id": "8e9f6a8d-9acd-4160-850c-dac35f88a10b",
   "metadata": {},
   "outputs": [],
   "source": [
    "avgM = getAvgMarks(studentData)"
   ]
  },
  {
   "cell_type": "code",
   "execution_count": 28,
   "id": "98ed36c5-5bb3-4e31-b213-6cecb5c4f23e",
   "metadata": {},
   "outputs": [
    {
     "data": {
      "text/plain": [
       "{'12': 38.0, '45': 49.2, '23': 45.0}"
      ]
     },
     "execution_count": 28,
     "metadata": {},
     "output_type": "execute_result"
    }
   ],
   "source": [
    "avgM"
   ]
  },
  {
   "cell_type": "code",
   "execution_count": 31,
   "id": "e044ee60-b33e-4c15-aec8-4850bb96d1a1",
   "metadata": {},
   "outputs": [
    {
     "name": "stdout",
     "output_type": "stream",
     "text": [
      "Student : 12 Got average Marks as:  38.0\n",
      "Student : 45 Got average Marks as:  49.2\n",
      "Student : 23 Got average Marks as:  45.0\n"
     ]
    }
   ],
   "source": [
    "for x in avgM:\n",
    "    print(\"Student :\",x,\"Got average Marks as: \", avgM[x])"
   ]
  },
  {
   "cell_type": "markdown",
   "id": "68bde48c-6626-4a66-bdfd-3e7c0790b8f7",
   "metadata": {},
   "source": [
    "#### Numpy package for numerical Pyhton"
   ]
  },
  {
   "cell_type": "code",
   "execution_count": 32,
   "id": "14ba9145-1bd5-480a-8996-67a6259ce9b1",
   "metadata": {},
   "outputs": [],
   "source": [
    "import numpy as np"
   ]
  },
  {
   "cell_type": "code",
   "execution_count": 38,
   "id": "012a3c37-bf87-42f2-a7e8-328b481ecfda",
   "metadata": {},
   "outputs": [],
   "source": [
    "a = np.array([1,2,3,5,7], dtype='i')"
   ]
  },
  {
   "cell_type": "code",
   "execution_count": 41,
   "id": "7efa1f8a-2163-4d4e-bcc3-04b8094108b3",
   "metadata": {},
   "outputs": [],
   "source": [
    "b = np.array((2,3,5), dtype='f')"
   ]
  },
  {
   "cell_type": "code",
   "execution_count": 39,
   "id": "bc7bf1fa-68ae-47cf-aca3-e3dc0342861d",
   "metadata": {},
   "outputs": [
    {
     "data": {
      "text/plain": [
       "numpy.ndarray"
      ]
     },
     "execution_count": 39,
     "metadata": {},
     "output_type": "execute_result"
    }
   ],
   "source": [
    "type(a)"
   ]
  },
  {
   "cell_type": "code",
   "execution_count": 40,
   "id": "5d18e846-e00f-4ebb-a2ee-34016d7ec722",
   "metadata": {},
   "outputs": [
    {
     "data": {
      "text/plain": [
       "dtype('int32')"
      ]
     },
     "execution_count": 40,
     "metadata": {},
     "output_type": "execute_result"
    }
   ],
   "source": [
    "a.dtype"
   ]
  },
  {
   "cell_type": "code",
   "execution_count": 42,
   "id": "05839373-0848-4de7-9ec4-f2292fd13ba2",
   "metadata": {},
   "outputs": [
    {
     "data": {
      "text/plain": [
       "dtype('float32')"
      ]
     },
     "execution_count": 42,
     "metadata": {},
     "output_type": "execute_result"
    }
   ],
   "source": [
    "b.dtype"
   ]
  },
  {
   "cell_type": "code",
   "execution_count": 2,
   "id": "4772df1c-d6ce-49fb-a6cb-909c262df278",
   "metadata": {},
   "outputs": [],
   "source": [
    "import numpy as np\n",
    "a = np.array([[1,2,3],[4,5,6]]) # arrays of arrays"
   ]
  },
  {
   "cell_type": "code",
   "execution_count": 3,
   "id": "47aa114b-a761-4f90-a6f6-59a7b571baac",
   "metadata": {},
   "outputs": [
    {
     "data": {
      "text/plain": [
       "2"
      ]
     },
     "execution_count": 3,
     "metadata": {},
     "output_type": "execute_result"
    }
   ],
   "source": [
    "a.ndim"
   ]
  },
  {
   "cell_type": "code",
   "execution_count": 4,
   "id": "a8abf20a-86cf-44c5-b9d8-f5382a2d096f",
   "metadata": {},
   "outputs": [
    {
     "data": {
      "text/plain": [
       "3"
      ]
     },
     "execution_count": 4,
     "metadata": {},
     "output_type": "execute_result"
    }
   ],
   "source": [
    "a[0,2] #Acceso al 3 elemento de la primera array (recordad que en Python la indexacion de elementos empieza por 0)"
   ]
  },
  {
   "cell_type": "code",
   "execution_count": 5,
   "id": "1e93ab17-a4f4-4292-ae78-8fad4daa4128",
   "metadata": {},
   "outputs": [
    {
     "data": {
      "text/plain": [
       "5"
      ]
     },
     "execution_count": 5,
     "metadata": {},
     "output_type": "execute_result"
    }
   ],
   "source": [
    "a[1,1]"
   ]
  },
  {
   "cell_type": "code",
   "execution_count": 15,
   "id": "0de16db4-aa44-4203-8d03-0c60559e1dc0",
   "metadata": {},
   "outputs": [],
   "source": [
    "\"\"\" By specifying 'dtype=object', you allow the array \n",
    "to contain elements of different sizes, such as lists of varying lengths\n",
    "is a 1-dimensional array of objects. This is because when using dtype=object, NumPy treats each sublist as a single object, \n",
    "rather than trying to form a regular multidimensional array.\n",
    "\"\"\"\n",
    "b = np.array([[1,2,3],[2,4,5,9]], dtype=object)"
   ]
  },
  {
   "cell_type": "code",
   "execution_count": 16,
   "id": "6d19e23c-71c6-4f14-8be9-4e75fab9949d",
   "metadata": {},
   "outputs": [
    {
     "data": {
      "text/plain": [
       "numpy.ndarray"
      ]
     },
     "execution_count": 16,
     "metadata": {},
     "output_type": "execute_result"
    }
   ],
   "source": [
    "type(b)"
   ]
  },
  {
   "cell_type": "code",
   "execution_count": 17,
   "id": "83ac1837-7db9-4120-b4a1-b21bdb4a7fce",
   "metadata": {},
   "outputs": [
    {
     "data": {
      "text/plain": [
       "1"
      ]
     },
     "execution_count": 17,
     "metadata": {},
     "output_type": "execute_result"
    }
   ],
   "source": [
    "b.ndim"
   ]
  },
  {
   "cell_type": "code",
   "execution_count": 20,
   "id": "1fec7bef-5f93-4c87-bba7-4a1e7ac750d7",
   "metadata": {},
   "outputs": [],
   "source": [
    "c = np.array([[1,2,3,4],[2,4,5,9]]) # 2 dimensional array"
   ]
  },
  {
   "cell_type": "code",
   "execution_count": 21,
   "id": "d2d9d8ab-4027-43e5-b5a9-deed53cd61a9",
   "metadata": {},
   "outputs": [
    {
     "data": {
      "text/plain": [
       "2"
      ]
     },
     "execution_count": 21,
     "metadata": {},
     "output_type": "execute_result"
    }
   ],
   "source": [
    "c.ndim"
   ]
  },
  {
   "cell_type": "code",
   "execution_count": 22,
   "id": "3b08846c-fe26-4d93-8e30-69c3d0c96992",
   "metadata": {},
   "outputs": [],
   "source": [
    "d = np.array([[[1,2,3],[4,5,6],[0,0,-1]],[[-1,-2,-3],[-4,-5,-6],[0,0,1]]]) # Tiene 3 dimensiones"
   ]
  },
  {
   "cell_type": "code",
   "execution_count": 23,
   "id": "4898d4da-e1b7-4f36-91fb-df2093be83fb",
   "metadata": {},
   "outputs": [
    {
     "data": {
      "text/plain": [
       "3"
      ]
     },
     "execution_count": 23,
     "metadata": {},
     "output_type": "execute_result"
    }
   ],
   "source": [
    "d.ndim"
   ]
  },
  {
   "cell_type": "code",
   "execution_count": 24,
   "id": "9e7098e0-f6aa-43ee-b63d-3172720dfb2a",
   "metadata": {},
   "outputs": [
    {
     "data": {
      "text/plain": [
       "-3"
      ]
     },
     "execution_count": 24,
     "metadata": {},
     "output_type": "execute_result"
    }
   ],
   "source": [
    "d[1,0,2]"
   ]
  },
  {
   "cell_type": "code",
   "execution_count": 26,
   "id": "c2ecfa6e-29d4-4152-8e65-5540633e2e29",
   "metadata": {},
   "outputs": [
    {
     "data": {
      "text/plain": [
       "5"
      ]
     },
     "execution_count": 26,
     "metadata": {},
     "output_type": "execute_result"
    }
   ],
   "source": [
    "d[0,1,1]"
   ]
  },
  {
   "cell_type": "code",
   "execution_count": 28,
   "id": "bea5c827-e501-4d87-af5a-da29dd29b5fe",
   "metadata": {},
   "outputs": [
    {
     "data": {
      "text/plain": [
       "-1"
      ]
     },
     "execution_count": 28,
     "metadata": {},
     "output_type": "execute_result"
    }
   ],
   "source": [
    "d[0,2,2]"
   ]
  },
  {
   "cell_type": "code",
   "execution_count": 29,
   "id": "69e88dae-1d5f-4324-8385-283ce8919337",
   "metadata": {},
   "outputs": [
    {
     "data": {
      "text/plain": [
       "numpy.ndarray"
      ]
     },
     "execution_count": 29,
     "metadata": {},
     "output_type": "execute_result"
    }
   ],
   "source": [
    "type(d)"
   ]
  },
  {
   "cell_type": "code",
   "execution_count": 31,
   "id": "af269ec5-26ef-4c84-8e7a-2f7f140d7ac0",
   "metadata": {},
   "outputs": [
    {
     "data": {
      "text/plain": [
       "(2, 3, 3)"
      ]
     },
     "execution_count": 31,
     "metadata": {},
     "output_type": "execute_result"
    }
   ],
   "source": [
    "d.shape"
   ]
  },
  {
   "cell_type": "code",
   "execution_count": 32,
   "id": "3ee165fd-5ede-492a-a42e-e5e1cf7120f6",
   "metadata": {},
   "outputs": [
    {
     "data": {
      "text/plain": [
       "18"
      ]
     },
     "execution_count": 32,
     "metadata": {},
     "output_type": "execute_result"
    }
   ],
   "source": [
    "d.size"
   ]
  },
  {
   "cell_type": "code",
   "execution_count": 33,
   "id": "7903376c-b91e-40fa-9bac-05ad477c789c",
   "metadata": {},
   "outputs": [
    {
     "data": {
      "text/plain": [
       "72"
      ]
     },
     "execution_count": 33,
     "metadata": {},
     "output_type": "execute_result"
    }
   ],
   "source": [
    "d.nbytes"
   ]
  },
  {
   "cell_type": "code",
   "execution_count": 36,
   "id": "20341e75-ee52-4c33-8a7e-c4e284db6104",
   "metadata": {},
   "outputs": [],
   "source": [
    "e = np.arange(100)"
   ]
  },
  {
   "cell_type": "code",
   "execution_count": 37,
   "id": "77d090dd-b9d6-4bff-86c2-668e4383c6bd",
   "metadata": {},
   "outputs": [
    {
     "name": "stdout",
     "output_type": "stream",
     "text": [
      "[ 0  1  2  3  4  5  6  7  8  9 10 11 12 13 14 15 16 17 18 19 20 21 22 23\n",
      " 24 25 26 27 28 29 30 31 32 33 34 35 36 37 38 39 40 41 42 43 44 45 46 47\n",
      " 48 49 50 51 52 53 54 55 56 57 58 59 60 61 62 63 64 65 66 67 68 69 70 71\n",
      " 72 73 74 75 76 77 78 79 80 81 82 83 84 85 86 87 88 89 90 91 92 93 94 95\n",
      " 96 97 98 99]\n"
     ]
    }
   ],
   "source": [
    "print(e)"
   ]
  },
  {
   "cell_type": "code",
   "execution_count": 42,
   "id": "a5b583dd-ed45-4590-9b42-6bb6ff37073f",
   "metadata": {},
   "outputs": [
    {
     "name": "stdout",
     "output_type": "stream",
     "text": [
      "[20 23 26 29 32 35 38 41 44 47 50 53 56 59 62 65 68 71 74 77 80 83 86 89\n",
      " 92 95 98]\n"
     ]
    }
   ],
   "source": [
    "f = np.arange(20,100,3) # for i in range(20,100,3)\n",
    "print(f)"
   ]
  },
  {
   "cell_type": "code",
   "execution_count": 43,
   "id": "e9f08a78-835c-4eb7-a036-ad35a27c2619",
   "metadata": {},
   "outputs": [
    {
     "name": "stdout",
     "output_type": "stream",
     "text": [
      "[0, 1, 2, 3, 4, 5, 6, 7, 8, 9]\n"
     ]
    }
   ],
   "source": [
    "print(list(range(10)))"
   ]
  },
  {
   "cell_type": "code",
   "execution_count": 44,
   "id": "fc54cf1e-cfbe-4d93-bd4d-7be7eedf69e6",
   "metadata": {},
   "outputs": [],
   "source": [
    "A = np.random.permutation(np.arange(10))"
   ]
  },
  {
   "cell_type": "code",
   "execution_count": 46,
   "id": "5b3d2f6c-968f-4351-99e5-2021a075afa2",
   "metadata": {},
   "outputs": [
    {
     "name": "stdout",
     "output_type": "stream",
     "text": [
      "[7 6 3 4 1 5 0 2 8 9]\n"
     ]
    }
   ],
   "source": [
    "print(A)"
   ]
  },
  {
   "cell_type": "code",
   "execution_count": 63,
   "id": "869c008a-565b-4756-852c-e813f82a4cd5",
   "metadata": {},
   "outputs": [
    {
     "name": "stdout",
     "output_type": "stream",
     "text": [
      "189\n"
     ]
    }
   ],
   "source": [
    "v = np.random.randint(20,300)\n",
    "print(v)"
   ]
  },
  {
   "cell_type": "code",
   "execution_count": 64,
   "id": "acd3d293-1c1c-4ad3-a7bf-081e75aaafff",
   "metadata": {},
   "outputs": [
    {
     "data": {
      "text/plain": [
       "int"
      ]
     },
     "execution_count": 64,
     "metadata": {},
     "output_type": "execute_result"
    }
   ],
   "source": [
    "type(v)"
   ]
  },
  {
   "cell_type": "code",
   "execution_count": 65,
   "id": "7ccaad1c-9de5-4d45-adf0-f8f46b4665bf",
   "metadata": {},
   "outputs": [],
   "source": [
    "a = np.random.rand(1000)"
   ]
  },
  {
   "cell_type": "code",
   "execution_count": 66,
   "id": "f7a13c1f-f6f2-4186-862c-8dc837bbb19e",
   "metadata": {},
   "outputs": [],
   "source": [
    "import matplotlib.pyplot as plt"
   ]
  },
  {
   "cell_type": "code",
   "execution_count": 68,
   "id": "c72f2307-f4c3-43b1-90f9-3f741a849ee7",
   "metadata": {},
   "outputs": [
    {
     "data": {
      "text/plain": [
       "(array([ 9.,  8.,  8., 10.,  6., 11.,  4., 13.,  8., 11.,  8.,  9., 10.,\n",
       "        15., 12., 11.,  9., 14., 12.,  6.,  9., 13., 15.,  8., 11., 10.,\n",
       "         6., 10.,  8., 14.,  8.,  5., 13., 11., 11.,  8., 10., 11., 13.,\n",
       "        10., 10., 10., 17.,  9.,  6.,  6., 10.,  9.,  5., 14.,  9.,  9.,\n",
       "        11.,  9., 18., 10.,  4., 11.,  9.,  7., 13.,  7.,  5., 10.,  8.,\n",
       "        16., 12.,  8., 10., 10., 12.,  8., 12.,  8., 11.,  8., 11.,  9.,\n",
       "        10., 11.,  9., 17.,  9.,  9., 10., 11.,  8., 11., 14.,  7.,  6.,\n",
       "        12., 12., 15., 10., 10., 11., 14.,  9.,  6.]),\n",
       " array([0.00210442, 0.01207019, 0.02203597, 0.03200174, 0.04196752,\n",
       "        0.05193329, 0.06189907, 0.07186484, 0.08183062, 0.09179639,\n",
       "        0.10176216, 0.11172794, 0.12169371, 0.13165949, 0.14162526,\n",
       "        0.15159104, 0.16155681, 0.17152259, 0.18148836, 0.19145413,\n",
       "        0.20141991, 0.21138568, 0.22135146, 0.23131723, 0.24128301,\n",
       "        0.25124878, 0.26121456, 0.27118033, 0.2811461 , 0.29111188,\n",
       "        0.30107765, 0.31104343, 0.3210092 , 0.33097498, 0.34094075,\n",
       "        0.35090653, 0.3608723 , 0.37083807, 0.38080385, 0.39076962,\n",
       "        0.4007354 , 0.41070117, 0.42066695, 0.43063272, 0.4405985 ,\n",
       "        0.45056427, 0.46053005, 0.47049582, 0.48046159, 0.49042737,\n",
       "        0.50039314, 0.51035892, 0.52032469, 0.53029047, 0.54025624,\n",
       "        0.55022202, 0.56018779, 0.57015356, 0.58011934, 0.59008511,\n",
       "        0.60005089, 0.61001666, 0.61998244, 0.62994821, 0.63991399,\n",
       "        0.64987976, 0.65984553, 0.66981131, 0.67977708, 0.68974286,\n",
       "        0.69970863, 0.70967441, 0.71964018, 0.72960596, 0.73957173,\n",
       "        0.7495375 , 0.75950328, 0.76946905, 0.77943483, 0.7894006 ,\n",
       "        0.79936638, 0.80933215, 0.81929793, 0.8292637 , 0.83922947,\n",
       "        0.84919525, 0.85916102, 0.8691268 , 0.87909257, 0.88905835,\n",
       "        0.89902412, 0.9089899 , 0.91895567, 0.92892145, 0.93888722,\n",
       "        0.94885299, 0.95881877, 0.96878454, 0.97875032, 0.98871609,\n",
       "        0.99868187]),\n",
       " <BarContainer object of 100 artists>)"
      ]
     },
     "execution_count": 68,
     "metadata": {},
     "output_type": "execute_result"
    },
    {
     "data": {
      "image/png": "[encoded data removed]",
      "text/plain": [
       "<Figure size 640x480 with 1 Axes>"
      ]
     },
     "metadata": {},
     "output_type": "display_data"
    }
   ],
   "source": [
    "plt.hist(a, bins=100)"
   ]
  },
  {
   "cell_type": "code",
   "execution_count": null,
   "id": "65e7c2c4-273d-41e5-97c7-d5d5ec148d3b",
   "metadata": {},
   "outputs": [],
   "source": []
  },
  {
   "cell_type": "code",
   "execution_count": 6,
   "id": "2700beae-2ab9-402f-a20a-db0f0ad6e54f",
   "metadata": {},
   "outputs": [
    {
     "data": {
      "text/plain": [
       "array([[ 0,  1,  2,  3,  4,  5,  6,  7,  8,  9, 10, 11, 12, 13, 14, 15,\n",
       "        16, 17, 18, 19, 20, 21, 22, 23, 24],\n",
       "       [25, 26, 27, 28, 29, 30, 31, 32, 33, 34, 35, 36, 37, 38, 39, 40,\n",
       "        41, 42, 43, 44, 45, 46, 47, 48, 49],\n",
       "       [50, 51, 52, 53, 54, 55, 56, 57, 58, 59, 60, 61, 62, 63, 64, 65,\n",
       "        66, 67, 68, 69, 70, 71, 72, 73, 74],\n",
       "       [75, 76, 77, 78, 79, 80, 81, 82, 83, 84, 85, 86, 87, 88, 89, 90,\n",
       "        91, 92, 93, 94, 95, 96, 97, 98, 99]])"
      ]
     },
     "execution_count": 6,
     "metadata": {},
     "output_type": "execute_result"
    }
   ],
   "source": [
    "import numpy as np\n",
    "D = np.arange(100).reshape(4,25) # Crea 4 listas con una longitud de 25 elementos en cada una\n",
    "D"
   ]
  },
  {
   "cell_type": "code",
   "execution_count": 7,
   "id": "cc857a79-dcdf-42ca-942e-ad3e8d5d8c05",
   "metadata": {},
   "outputs": [],
   "source": [
    "A = np.arange(100)"
   ]
  },
  {
   "cell_type": "code",
   "execution_count": 8,
   "id": "8abe315e-74ee-4954-bcbc-6a57bce97fcd",
   "metadata": {},
   "outputs": [
    {
     "data": {
      "text/plain": [
       "array([ 0,  1,  2,  3,  4,  5,  6,  7,  8,  9, 10, 11, 12, 13, 14, 15, 16,\n",
       "       17, 18, 19, 20, 21, 22, 23, 24, 25, 26, 27, 28, 29, 30, 31, 32, 33,\n",
       "       34, 35, 36, 37, 38, 39, 40, 41, 42, 43, 44, 45, 46, 47, 48, 49, 50,\n",
       "       51, 52, 53, 54, 55, 56, 57, 58, 59, 60, 61, 62, 63, 64, 65, 66, 67,\n",
       "       68, 69, 70, 71, 72, 73, 74, 75, 76, 77, 78, 79, 80, 81, 82, 83, 84,\n",
       "       85, 86, 87, 88, 89, 90, 91, 92, 93, 94, 95, 96, 97, 98, 99])"
      ]
     },
     "execution_count": 8,
     "metadata": {},
     "output_type": "execute_result"
    }
   ],
   "source": [
    "A"
   ]
  },
  {
   "cell_type": "code",
   "execution_count": 10,
   "id": "834f688b-b15a-4e96-a78e-e440c3d747a1",
   "metadata": {},
   "outputs": [
    {
     "name": "stdout",
     "output_type": "stream",
     "text": [
      "[3 4 5 6 7 8 9]\n"
     ]
    }
   ],
   "source": [
    "b = A[3:10] # selecciona del 3 al 9, dejando fuera de la seleccion al 10. \n",
    "print(b)"
   ]
  },
  {
   "cell_type": "code",
   "execution_count": 14,
   "id": "8430832e-a578-41d4-9120-1ae56a7a8edc",
   "metadata": {},
   "outputs": [],
   "source": [
    "b[0] = -1200 # Cambiamos la posicion 0 (primera posicion) de 'b' por '-1200'"
   ]
  },
  {
   "cell_type": "code",
   "execution_count": 13,
   "id": "7f223a5c-7d97-4fed-833f-1ccdc7f5e5f9",
   "metadata": {},
   "outputs": [
    {
     "data": {
      "text/plain": [
       "array([-1200,     4,     5,     6,     7,     8,     9])"
      ]
     },
     "execution_count": 13,
     "metadata": {},
     "output_type": "execute_result"
    }
   ],
   "source": [
    "b"
   ]
  },
  {
   "cell_type": "code",
   "execution_count": 16,
   "id": "ebd3640a-74bb-4cb5-a141-338284e26a27",
   "metadata": {},
   "outputs": [
    {
     "data": {
      "text/plain": [
       "array([    0,     1,     2, -1200,     4,     5,     6,     7,     8,\n",
       "           9,    10,    11,    12,    13,    14,    15,    16,    17,\n",
       "          18,    19,    20,    21,    22,    23,    24,    25,    26,\n",
       "          27,    28,    29,    30,    31,    32,    33,    34,    35,\n",
       "          36,    37,    38,    39,    40,    41,    42,    43,    44,\n",
       "          45,    46,    47,    48,    49,    50,    51,    52,    53,\n",
       "          54,    55,    56,    57,    58,    59,    60,    61,    62,\n",
       "          63,    64,    65,    66,    67,    68,    69,    70,    71,\n",
       "          72,    73,    74,    75,    76,    77,    78,    79,    80,\n",
       "          81,    82,    83,    84,    85,    86,    87,    88,    89,\n",
       "          90,    91,    92,    93,    94,    95,    96,    97,    98,\n",
       "          99])"
      ]
     },
     "execution_count": 16,
     "metadata": {},
     "output_type": "execute_result"
    }
   ],
   "source": [
    "A # tambien cambia el contenido de A tras haber modificado la posicion '0' de b por '-1200'"
   ]
  },
  {
   "cell_type": "code",
   "execution_count": 19,
   "id": "6e6fbad6-667e-4763-9e40-560477a18725",
   "metadata": {},
   "outputs": [],
   "source": [
    "b = A[3:10].copy() # de esta forma no se modifica en A los cambios que hagamos a b, utiliza una memoria diferente."
   ]
  },
  {
   "cell_type": "code",
   "execution_count": 18,
   "id": "5e592300-51a4-411b-870c-b73cbf0eb712",
   "metadata": {},
   "outputs": [
    {
     "data": {
      "text/plain": [
       "array([-1200,     4,     5,     6,     7,     8,     9])"
      ]
     },
     "execution_count": 18,
     "metadata": {},
     "output_type": "execute_result"
    }
   ],
   "source": [
    "b"
   ]
  },
  {
   "cell_type": "code",
   "execution_count": 20,
   "id": "528c5c2c-8ede-42b6-850c-c18ed20c1031",
   "metadata": {},
   "outputs": [],
   "source": [
    "b[0] = -120 # Cambiamos la posicion 0 (primera posicion) de 'b' por '-1200'"
   ]
  },
  {
   "cell_type": "code",
   "execution_count": 21,
   "id": "a28b42bf-5918-4242-9519-f7ce0d69625b",
   "metadata": {},
   "outputs": [
    {
     "data": {
      "text/plain": [
       "array([-120,    4,    5,    6,    7,    8,    9])"
      ]
     },
     "execution_count": 21,
     "metadata": {},
     "output_type": "execute_result"
    }
   ],
   "source": [
    "b"
   ]
  },
  {
   "cell_type": "code",
   "execution_count": 22,
   "id": "953d866b-fe16-4084-ae07-2f2fd30a61b7",
   "metadata": {},
   "outputs": [
    {
     "data": {
      "text/plain": [
       "array([    0,     1,     2, -1200,     4,     5,     6,     7,     8,\n",
       "           9,    10,    11,    12,    13,    14,    15,    16,    17,\n",
       "          18,    19,    20,    21,    22,    23,    24,    25,    26,\n",
       "          27,    28,    29,    30,    31,    32,    33,    34,    35,\n",
       "          36,    37,    38,    39,    40,    41,    42,    43,    44,\n",
       "          45,    46,    47,    48,    49,    50,    51,    52,    53,\n",
       "          54,    55,    56,    57,    58,    59,    60,    61,    62,\n",
       "          63,    64,    65,    66,    67,    68,    69,    70,    71,\n",
       "          72,    73,    74,    75,    76,    77,    78,    79,    80,\n",
       "          81,    82,    83,    84,    85,    86,    87,    88,    89,\n",
       "          90,    91,    92,    93,    94,    95,    96,    97,    98,\n",
       "          99])"
      ]
     },
     "execution_count": 22,
     "metadata": {},
     "output_type": "execute_result"
    }
   ],
   "source": [
    "A #Tras ejecutar la funcion copy() y realizar cambios en b, al utilizar una memoria diferente, A no se ve modificada. "
   ]
  },
  {
   "cell_type": "code",
   "execution_count": 25,
   "id": "d4dc3972-02fc-4bbd-9d3c-df96f97418cc",
   "metadata": {},
   "outputs": [
    {
     "data": {
      "text/plain": [
       "array([ 0,  5, 10, 15, 20, 25, 30, 35, 40, 45, 50, 55, 60, 65, 70, 75, 80,\n",
       "       85, 90, 95])"
      ]
     },
     "execution_count": 25,
     "metadata": {},
     "output_type": "execute_result"
    }
   ],
   "source": [
    "A[::5] # coge de 5 en 5 los elementos de A"
   ]
  },
  {
   "cell_type": "code",
   "execution_count": 27,
   "id": "81055bed-c5b1-476b-b00a-2a7a152a0666",
   "metadata": {},
   "outputs": [
    {
     "data": {
      "text/plain": [
       "array([99, 94, 89, 84, 79, 74, 69, 64, 59, 54, 49, 44, 39, 34, 29, 24, 19,\n",
       "       14,  9,  4])"
      ]
     },
     "execution_count": 27,
     "metadata": {},
     "output_type": "execute_result"
    }
   ],
   "source": [
    "A[::-5] # coge de 5 en 5 los elementos de A empezando por el final"
   ]
  },
  {
   "cell_type": "markdown",
   "id": "340d43a1-a168-4eb9-8c34-9a54a35d35d3",
   "metadata": {},
   "source": [
    "#### Pandas"
   ]
  },
  {
   "cell_type": "code",
   "execution_count": 28,
   "id": "2aee349e-409d-4218-a2b5-4ea235796f6a",
   "metadata": {},
   "outputs": [],
   "source": [
    "import pandas as pd"
   ]
  },
  {
   "cell_type": "code",
   "execution_count": 31,
   "id": "9cc99619-21ee-4a59-941d-a392a5c08639",
   "metadata": {},
   "outputs": [],
   "source": [
    "data = pd.Series([2,3,4,5],[\"a\",\"b\",\"c\",\"d\"])"
   ]
  },
  {
   "cell_type": "code",
   "execution_count": 32,
   "id": "26848cab-ece2-40ba-b350-9038e5845f9d",
   "metadata": {},
   "outputs": [
    {
     "name": "stdout",
     "output_type": "stream",
     "text": [
      "a    2\n",
      "b    3\n",
      "c    4\n",
      "d    5\n",
      "dtype: int64\n"
     ]
    }
   ],
   "source": [
    "print(data)"
   ]
  },
  {
   "cell_type": "code",
   "execution_count": 33,
   "id": "2dbe6c74-d850-4a18-b47f-447b4615e95c",
   "metadata": {},
   "outputs": [
    {
     "data": {
      "text/plain": [
       "array([2, 3, 4, 5], dtype=int64)"
      ]
     },
     "execution_count": 33,
     "metadata": {},
     "output_type": "execute_result"
    }
   ],
   "source": [
    "data.values"
   ]
  },
  {
   "cell_type": "code",
   "execution_count": 34,
   "id": "41fc107f-91e1-4232-86e1-650e842983f7",
   "metadata": {},
   "outputs": [
    {
     "data": {
      "text/plain": [
       "numpy.ndarray"
      ]
     },
     "execution_count": 34,
     "metadata": {},
     "output_type": "execute_result"
    }
   ],
   "source": [
    "type(data.values)"
   ]
  },
  {
   "cell_type": "code",
   "execution_count": 35,
   "id": "be28954b-10af-4e3f-bcbf-092c3df1e6bb",
   "metadata": {},
   "outputs": [
    {
     "data": {
      "text/plain": [
       "pandas.core.series.Series"
      ]
     },
     "execution_count": 35,
     "metadata": {},
     "output_type": "execute_result"
    }
   ],
   "source": [
    "type(data)"
   ]
  },
  {
   "cell_type": "code",
   "execution_count": 36,
   "id": "c5f2ad98-fab6-4a0a-b6c4-2bef2c7c5e17",
   "metadata": {},
   "outputs": [
    {
     "data": {
      "text/plain": [
       "Index(['a', 'b', 'c', 'd'], dtype='object')"
      ]
     },
     "execution_count": 36,
     "metadata": {},
     "output_type": "execute_result"
    }
   ],
   "source": [
    "data.index"
   ]
  },
  {
   "cell_type": "code",
   "execution_count": 37,
   "id": "2fde06b3-4b32-4c16-abe6-f82169dbef49",
   "metadata": {},
   "outputs": [
    {
     "data": {
      "text/plain": [
       "2"
      ]
     },
     "execution_count": 37,
     "metadata": {},
     "output_type": "execute_result"
    }
   ],
   "source": [
    "data[\"a\"]"
   ]
  },
  {
   "cell_type": "code",
   "execution_count": 38,
   "id": "824a8ff5-aaf2-4e83-9a6b-22881b2167cf",
   "metadata": {},
   "outputs": [
    {
     "data": {
      "text/plain": [
       "a    2\n",
       "b    3\n",
       "c    4\n",
       "d    5\n",
       "dtype: int64"
      ]
     },
     "execution_count": 38,
     "metadata": {},
     "output_type": "execute_result"
    }
   ],
   "source": [
    "data[\"a\":\"d\"]"
   ]
  },
  {
   "cell_type": "code",
   "execution_count": 41,
   "id": "9ba7a6f8-c5fa-4426-a9dd-4fd30e56fe66",
   "metadata": {},
   "outputs": [],
   "source": [
    "grads_dict = {'A':4,'B':3.5,'C':3,'D': 2.5}\n",
    "grads = pd.Series(grads_dict)"
   ]
  },
  {
   "cell_type": "code",
   "execution_count": 43,
   "id": "9db6c261-f18b-47f4-98d0-8673bf1f9ec3",
   "metadata": {},
   "outputs": [
    {
     "data": {
      "text/plain": [
       "array([4. , 3.5, 3. , 2.5])"
      ]
     },
     "execution_count": 43,
     "metadata": {},
     "output_type": "execute_result"
    }
   ],
   "source": [
    "grads.values # A Series is similar to a column in a DataFrame"
   ]
  },
  {
   "cell_type": "code",
   "execution_count": 44,
   "id": "8189c38d-c8e2-4081-bbdd-d0a15f43adc0",
   "metadata": {},
   "outputs": [],
   "source": [
    "marks_dict = {'A':85,'B':75,'C':65,'D': 55}\n",
    "marks = pd.Series(marks_dict)"
   ]
  },
  {
   "cell_type": "code",
   "execution_count": 46,
   "id": "e079f220-c24a-4e35-933b-4491059a06df",
   "metadata": {},
   "outputs": [
    {
     "data": {
      "text/plain": [
       "A    85\n",
       "B    75\n",
       "C    65\n",
       "D    55\n",
       "dtype: int64"
      ]
     },
     "execution_count": 46,
     "metadata": {},
     "output_type": "execute_result"
    }
   ],
   "source": [
    "marks # muestra todos los valores junto con el data type"
   ]
  },
  {
   "cell_type": "code",
   "execution_count": 47,
   "id": "4a404148-c5d5-42f6-9e94-3259db252b3c",
   "metadata": {},
   "outputs": [
    {
     "data": {
      "text/plain": [
       "85"
      ]
     },
     "execution_count": 47,
     "metadata": {},
     "output_type": "execute_result"
    }
   ],
   "source": [
    "marks['A']"
   ]
  },
  {
   "cell_type": "code",
   "execution_count": 50,
   "id": "7c7bef9f-06c2-4c18-94b0-c889830c6f84",
   "metadata": {},
   "outputs": [
    {
     "data": {
      "text/plain": [
       "A    85\n",
       "B    75\n",
       "dtype: int64"
      ]
     },
     "execution_count": 50,
     "metadata": {},
     "output_type": "execute_result"
    }
   ],
   "source": [
    "marks[0:2] # Slice the data, posicion 0 y 1, la 2 no incluida."
   ]
  },
  {
   "cell_type": "code",
   "execution_count": 51,
   "id": "223cc608-e477-4774-9882-26b1a2b3797c",
   "metadata": {},
   "outputs": [
    {
     "data": {
      "text/plain": [
       "A    4.0\n",
       "B    3.5\n",
       "C    3.0\n",
       "D    2.5\n",
       "dtype: float64"
      ]
     },
     "execution_count": 51,
     "metadata": {},
     "output_type": "execute_result"
    }
   ],
   "source": [
    "grads"
   ]
  },
  {
   "cell_type": "code",
   "execution_count": 55,
   "id": "f4041b97-34e5-46fc-b70f-30d278c94015",
   "metadata": {},
   "outputs": [
    {
     "data": {
      "text/html": [
       "<div>\n",
       "<style scoped>\n",
       "    .dataframe tbody tr th:only-of-type {\n",
       "        vertical-align: middle;\n",
       "    }\n",
       "\n",
       "    .dataframe tbody tr th {\n",
       "        vertical-align: top;\n",
       "    }\n",
       "\n",
       "    .dataframe thead th {\n",
       "        text-align: right;\n",
       "    }\n",
       "</style>\n",
       "<table border=\"1\" class=\"dataframe\">\n",
       "  <thead>\n",
       "    <tr style=\"text-align: right;\">\n",
       "      <th></th>\n",
       "      <th>Marks</th>\n",
       "      <th>Grades</th>\n",
       "    </tr>\n",
       "  </thead>\n",
       "  <tbody>\n",
       "    <tr>\n",
       "      <th>A</th>\n",
       "      <td>85</td>\n",
       "      <td>4.0</td>\n",
       "    </tr>\n",
       "    <tr>\n",
       "      <th>B</th>\n",
       "      <td>75</td>\n",
       "      <td>3.5</td>\n",
       "    </tr>\n",
       "    <tr>\n",
       "      <th>C</th>\n",
       "      <td>65</td>\n",
       "      <td>3.0</td>\n",
       "    </tr>\n",
       "    <tr>\n",
       "      <th>D</th>\n",
       "      <td>55</td>\n",
       "      <td>2.5</td>\n",
       "    </tr>\n",
       "  </tbody>\n",
       "</table>\n",
       "</div>"
      ],
      "text/plain": [
       "   Marks  Grades\n",
       "A     85     4.0\n",
       "B     75     3.5\n",
       "C     65     3.0\n",
       "D     55     2.5"
      ]
     },
     "execution_count": 55,
     "metadata": {},
     "output_type": "execute_result"
    }
   ],
   "source": [
    "df = pd.DataFrame({'Marks':marks,'Grades':grads}) # creamos un data frame con pandas\n",
    "df"
   ]
  },
  {
   "cell_type": "code",
   "execution_count": 56,
   "id": "dc2918ba-d45b-4baf-b63a-2f08c04a9571",
   "metadata": {},
   "outputs": [
    {
     "data": {
      "text/html": [
       "<div>\n",
       "<style scoped>\n",
       "    .dataframe tbody tr th:only-of-type {\n",
       "        vertical-align: middle;\n",
       "    }\n",
       "\n",
       "    .dataframe tbody tr th {\n",
       "        vertical-align: top;\n",
       "    }\n",
       "\n",
       "    .dataframe thead th {\n",
       "        text-align: right;\n",
       "    }\n",
       "</style>\n",
       "<table border=\"1\" class=\"dataframe\">\n",
       "  <thead>\n",
       "    <tr style=\"text-align: right;\">\n",
       "      <th></th>\n",
       "      <th>A</th>\n",
       "      <th>B</th>\n",
       "      <th>C</th>\n",
       "      <th>D</th>\n",
       "    </tr>\n",
       "  </thead>\n",
       "  <tbody>\n",
       "    <tr>\n",
       "      <th>Marks</th>\n",
       "      <td>85.0</td>\n",
       "      <td>75.0</td>\n",
       "      <td>65.0</td>\n",
       "      <td>55.0</td>\n",
       "    </tr>\n",
       "    <tr>\n",
       "      <th>Grades</th>\n",
       "      <td>4.0</td>\n",
       "      <td>3.5</td>\n",
       "      <td>3.0</td>\n",
       "      <td>2.5</td>\n",
       "    </tr>\n",
       "  </tbody>\n",
       "</table>\n",
       "</div>"
      ],
      "text/plain": [
       "           A     B     C     D\n",
       "Marks   85.0  75.0  65.0  55.0\n",
       "Grades   4.0   3.5   3.0   2.5"
      ]
     },
     "execution_count": 56,
     "metadata": {},
     "output_type": "execute_result"
    }
   ],
   "source": [
    "df.T # transponemos el data frame"
   ]
  },
  {
   "cell_type": "code",
   "execution_count": 59,
   "id": "7227dbf6-c8f2-442e-81ac-d5608e20887c",
   "metadata": {},
   "outputs": [
    {
     "data": {
      "text/html": [
       "<div>\n",
       "<style scoped>\n",
       "    .dataframe tbody tr th:only-of-type {\n",
       "        vertical-align: middle;\n",
       "    }\n",
       "\n",
       "    .dataframe tbody tr th {\n",
       "        vertical-align: top;\n",
       "    }\n",
       "\n",
       "    .dataframe thead th {\n",
       "        text-align: right;\n",
       "    }\n",
       "</style>\n",
       "<table border=\"1\" class=\"dataframe\">\n",
       "  <thead>\n",
       "    <tr style=\"text-align: right;\">\n",
       "      <th></th>\n",
       "      <th>Marks</th>\n",
       "      <th>Grades</th>\n",
       "    </tr>\n",
       "  </thead>\n",
       "  <tbody>\n",
       "    <tr>\n",
       "      <th>A</th>\n",
       "      <td>85</td>\n",
       "      <td>4.0</td>\n",
       "    </tr>\n",
       "    <tr>\n",
       "      <th>B</th>\n",
       "      <td>75</td>\n",
       "      <td>3.5</td>\n",
       "    </tr>\n",
       "    <tr>\n",
       "      <th>C</th>\n",
       "      <td>65</td>\n",
       "      <td>3.0</td>\n",
       "    </tr>\n",
       "    <tr>\n",
       "      <th>D</th>\n",
       "      <td>55</td>\n",
       "      <td>2.5</td>\n",
       "    </tr>\n",
       "  </tbody>\n",
       "</table>\n",
       "</div>"
      ],
      "text/plain": [
       "   Marks  Grades\n",
       "A     85     4.0\n",
       "B     75     3.5\n",
       "C     65     3.0\n",
       "D     55     2.5"
      ]
     },
     "execution_count": 59,
     "metadata": {},
     "output_type": "execute_result"
    }
   ],
   "source": [
    "df"
   ]
  },
  {
   "cell_type": "code",
   "execution_count": 58,
   "id": "dff9a391-43c2-41cc-b984-2b5f31773c30",
   "metadata": {},
   "outputs": [
    {
     "data": {
      "text/plain": [
       "array([[85. ,  4. ],\n",
       "       [75. ,  3.5],\n",
       "       [65. ,  3. ],\n",
       "       [55. ,  2.5]])"
      ]
     },
     "execution_count": 58,
     "metadata": {},
     "output_type": "execute_result"
    }
   ],
   "source": [
    "df.values"
   ]
  },
  {
   "cell_type": "code",
   "execution_count": 61,
   "id": "36eb5dc1-ddad-4438-8e10-e9af86152919",
   "metadata": {},
   "outputs": [
    {
     "data": {
      "text/plain": [
       "65.0"
      ]
     },
     "execution_count": 61,
     "metadata": {},
     "output_type": "execute_result"
    }
   ],
   "source": [
    "df.values[2,0] # Seleccionamos primero las filas y luego la columna: posicion 3 en la fila (2) y 1 en la columna (0)"
   ]
  },
  {
   "cell_type": "code",
   "execution_count": 62,
   "id": "1c4501de-4dbe-4b66-8411-3a7fd470b440",
   "metadata": {},
   "outputs": [
    {
     "data": {
      "text/plain": [
       "Index(['Marks', 'Grades'], dtype='object')"
      ]
     },
     "execution_count": 62,
     "metadata": {},
     "output_type": "execute_result"
    }
   ],
   "source": [
    "df.columns"
   ]
  },
  {
   "cell_type": "code",
   "execution_count": 63,
   "id": "a77b1a17-870d-4138-90e3-3fb42739c380",
   "metadata": {},
   "outputs": [
    {
     "data": {
      "text/html": [
       "<div>\n",
       "<style scoped>\n",
       "    .dataframe tbody tr th:only-of-type {\n",
       "        vertical-align: middle;\n",
       "    }\n",
       "\n",
       "    .dataframe tbody tr th {\n",
       "        vertical-align: top;\n",
       "    }\n",
       "\n",
       "    .dataframe thead th {\n",
       "        text-align: right;\n",
       "    }\n",
       "</style>\n",
       "<table border=\"1\" class=\"dataframe\">\n",
       "  <thead>\n",
       "    <tr style=\"text-align: right;\">\n",
       "      <th></th>\n",
       "      <th>Marks</th>\n",
       "      <th>Grades</th>\n",
       "    </tr>\n",
       "  </thead>\n",
       "  <tbody>\n",
       "    <tr>\n",
       "      <th>A</th>\n",
       "      <td>85</td>\n",
       "      <td>4.0</td>\n",
       "    </tr>\n",
       "    <tr>\n",
       "      <th>B</th>\n",
       "      <td>75</td>\n",
       "      <td>3.5</td>\n",
       "    </tr>\n",
       "    <tr>\n",
       "      <th>C</th>\n",
       "      <td>65</td>\n",
       "      <td>3.0</td>\n",
       "    </tr>\n",
       "    <tr>\n",
       "      <th>D</th>\n",
       "      <td>55</td>\n",
       "      <td>2.5</td>\n",
       "    </tr>\n",
       "  </tbody>\n",
       "</table>\n",
       "</div>"
      ],
      "text/plain": [
       "   Marks  Grades\n",
       "A     85     4.0\n",
       "B     75     3.5\n",
       "C     65     3.0\n",
       "D     55     2.5"
      ]
     },
     "execution_count": 63,
     "metadata": {},
     "output_type": "execute_result"
    }
   ],
   "source": [
    "df"
   ]
  },
  {
   "cell_type": "code",
   "execution_count": 73,
   "id": "e3a349b2-5d06-494a-ab08-cbb807a6c3e3",
   "metadata": {},
   "outputs": [],
   "source": [
    "df['ScaledMarks'] = 100*(df['Marks']/90) # add another column to df: notas escaladas a un total de 90"
   ]
  },
  {
   "cell_type": "code",
   "execution_count": 74,
   "id": "8671a392-0bbb-4db5-8b3b-745f82c97999",
   "metadata": {},
   "outputs": [
    {
     "data": {
      "text/html": [
       "<div>\n",
       "<style scoped>\n",
       "    .dataframe tbody tr th:only-of-type {\n",
       "        vertical-align: middle;\n",
       "    }\n",
       "\n",
       "    .dataframe tbody tr th {\n",
       "        vertical-align: top;\n",
       "    }\n",
       "\n",
       "    .dataframe thead th {\n",
       "        text-align: right;\n",
       "    }\n",
       "</style>\n",
       "<table border=\"1\" class=\"dataframe\">\n",
       "  <thead>\n",
       "    <tr style=\"text-align: right;\">\n",
       "      <th></th>\n",
       "      <th>Marks</th>\n",
       "      <th>Grades</th>\n",
       "      <th>ScaledMarks</th>\n",
       "    </tr>\n",
       "  </thead>\n",
       "  <tbody>\n",
       "    <tr>\n",
       "      <th>A</th>\n",
       "      <td>85</td>\n",
       "      <td>4.0</td>\n",
       "      <td>94.444444</td>\n",
       "    </tr>\n",
       "    <tr>\n",
       "      <th>B</th>\n",
       "      <td>75</td>\n",
       "      <td>3.5</td>\n",
       "      <td>83.333333</td>\n",
       "    </tr>\n",
       "    <tr>\n",
       "      <th>C</th>\n",
       "      <td>65</td>\n",
       "      <td>3.0</td>\n",
       "      <td>72.222222</td>\n",
       "    </tr>\n",
       "    <tr>\n",
       "      <th>D</th>\n",
       "      <td>55</td>\n",
       "      <td>2.5</td>\n",
       "      <td>61.111111</td>\n",
       "    </tr>\n",
       "  </tbody>\n",
       "</table>\n",
       "</div>"
      ],
      "text/plain": [
       "   Marks  Grades  ScaledMarks\n",
       "A     85     4.0    94.444444\n",
       "B     75     3.5    83.333333\n",
       "C     65     3.0    72.222222\n",
       "D     55     2.5    61.111111"
      ]
     },
     "execution_count": 74,
     "metadata": {},
     "output_type": "execute_result"
    }
   ],
   "source": [
    "df"
   ]
  },
  {
   "cell_type": "code",
   "execution_count": 75,
   "id": "f07b2cb5-b782-4cb2-a176-b30fb72ff9d0",
   "metadata": {},
   "outputs": [
    {
     "data": {
      "text/html": [
       "<div>\n",
       "<style scoped>\n",
       "    .dataframe tbody tr th:only-of-type {\n",
       "        vertical-align: middle;\n",
       "    }\n",
       "\n",
       "    .dataframe tbody tr th {\n",
       "        vertical-align: top;\n",
       "    }\n",
       "\n",
       "    .dataframe thead th {\n",
       "        text-align: right;\n",
       "    }\n",
       "</style>\n",
       "<table border=\"1\" class=\"dataframe\">\n",
       "  <thead>\n",
       "    <tr style=\"text-align: right;\">\n",
       "      <th></th>\n",
       "      <th>Marks</th>\n",
       "      <th>Grades</th>\n",
       "    </tr>\n",
       "  </thead>\n",
       "  <tbody>\n",
       "    <tr>\n",
       "      <th>A</th>\n",
       "      <td>85</td>\n",
       "      <td>4.0</td>\n",
       "    </tr>\n",
       "    <tr>\n",
       "      <th>B</th>\n",
       "      <td>75</td>\n",
       "      <td>3.5</td>\n",
       "    </tr>\n",
       "    <tr>\n",
       "      <th>C</th>\n",
       "      <td>65</td>\n",
       "      <td>3.0</td>\n",
       "    </tr>\n",
       "    <tr>\n",
       "      <th>D</th>\n",
       "      <td>55</td>\n",
       "      <td>2.5</td>\n",
       "    </tr>\n",
       "  </tbody>\n",
       "</table>\n",
       "</div>"
      ],
      "text/plain": [
       "   Marks  Grades\n",
       "A     85     4.0\n",
       "B     75     3.5\n",
       "C     65     3.0\n",
       "D     55     2.5"
      ]
     },
     "execution_count": 75,
     "metadata": {},
     "output_type": "execute_result"
    }
   ],
   "source": [
    "del df['ScaledMarks'] # eliminamos la columna 'ScaledMarks' previamente creada\n",
    "df"
   ]
  },
  {
   "cell_type": "code",
   "execution_count": 78,
   "id": "00d5bed0-9328-4a02-945f-d572877a1b06",
   "metadata": {},
   "outputs": [
    {
     "data": {
      "text/html": [
       "<div>\n",
       "<style scoped>\n",
       "    .dataframe tbody tr th:only-of-type {\n",
       "        vertical-align: middle;\n",
       "    }\n",
       "\n",
       "    .dataframe tbody tr th {\n",
       "        vertical-align: top;\n",
       "    }\n",
       "\n",
       "    .dataframe thead th {\n",
       "        text-align: right;\n",
       "    }\n",
       "</style>\n",
       "<table border=\"1\" class=\"dataframe\">\n",
       "  <thead>\n",
       "    <tr style=\"text-align: right;\">\n",
       "      <th></th>\n",
       "      <th>Marks</th>\n",
       "      <th>Grades</th>\n",
       "    </tr>\n",
       "  </thead>\n",
       "  <tbody>\n",
       "    <tr>\n",
       "      <th>A</th>\n",
       "      <td>85</td>\n",
       "      <td>4.0</td>\n",
       "    </tr>\n",
       "    <tr>\n",
       "      <th>B</th>\n",
       "      <td>75</td>\n",
       "      <td>3.5</td>\n",
       "    </tr>\n",
       "  </tbody>\n",
       "</table>\n",
       "</div>"
      ],
      "text/plain": [
       "   Marks  Grades\n",
       "A     85     4.0\n",
       "B     75     3.5"
      ]
     },
     "execution_count": 78,
     "metadata": {},
     "output_type": "execute_result"
    }
   ],
   "source": [
    "G = df[df['Marks']>70] # almacenamos en un pandas.Dataframe las calificaciones por encima de 70 puntos\n",
    "G"
   ]
  },
  {
   "cell_type": "code",
   "execution_count": 79,
   "id": "9a816823-579b-4ac3-855a-0f5fb426d21f",
   "metadata": {},
   "outputs": [
    {
     "data": {
      "text/plain": [
       "pandas.core.frame.DataFrame"
      ]
     },
     "execution_count": 79,
     "metadata": {},
     "output_type": "execute_result"
    }
   ],
   "source": [
    "type(G)"
   ]
  },
  {
   "cell_type": "code",
   "execution_count": null,
   "id": "d6e5f35e-cc95-4008-a2a1-943666f28cea",
   "metadata": {},
   "outputs": [],
   "source": [
    "type()"
   ]
  }
 ],
 "metadata": {
  "kernelspec": {
   "display_name": "Python 3 (ipykernel)",
   "language": "python",
   "name": "python3"
  },
  "language_info": {
   "codemirror_mode": {
    "name": "ipython",
    "version": 3
   },
   "file_extension": ".py",
   "mimetype": "text/x-python",
   "name": "python",
   "nbconvert_exporter": "python",
   "pygments_lexer": "ipython3",
   "version": "3.11.7"
  }
 },
 "nbformat": 4,
 "nbformat_minor": 5
}
