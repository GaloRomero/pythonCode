{
 "cells": [
  {
   "cell_type": "markdown",
   "id": "2d7bce64-e999-4004-8311-fee78aa4393c",
   "metadata": {},
   "source": [
    "#### Perform different computations or actions depending on wether a specific Boolean condition or constraint evaluates TRUE or FALSE"
   ]
  },
  {
   "cell_type": "markdown",
   "id": "3e093067-7714-4540-9919-440a7835262d",
   "metadata": {},
   "source": [
    "##### if statements\n",
    "\n",
    "- Used to check conditions before it executes certain block of code\n",
    "- The help your program make decisions.\n",
    "- They only run code if-block when condition is TRUE.\n",
    "- They use comparison and logical operators to check conditions."
   ]
  },
  {
   "cell_type": "code",
   "execution_count": 5,
   "id": "c1fc8003-9d84-4d2f-9b3d-016883d2fd31",
   "metadata": {},
   "outputs": [
    {
     "name": "stdout",
     "output_type": "stream",
     "text": [
      "b is greater than a\n"
     ]
    }
   ],
   "source": [
    "# An \"if statement\" is written by using the if keyword\n",
    "a = 40\n",
    "b = 80 \n",
    "if b > a:\n",
    "    print(\"b is greater than a\")"
   ]
  },
  {
   "cell_type": "markdown",
   "id": "c67d9d89-035c-4e15-a4a4-27275feeab4e",
   "metadata": {},
   "source": [
    "##### elif statements"
   ]
  },
  {
   "cell_type": "markdown",
   "id": "08b54c70-e545-42b6-a073-4a70166058a4",
   "metadata": {},
   "source": [
    "- Used to check multiple expressions for TRUE conditions.\n",
    "- Only executes a block of code as soon as one of the conditions evaluates to TRUE."
   ]
  },
  {
   "cell_type": "code",
   "execution_count": 4,
   "id": "0de93249-8d51-442c-98c0-09f1776d069d",
   "metadata": {},
   "outputs": [
    {
     "name": "stdout",
     "output_type": "stream",
     "text": [
      "a and b are equal\n"
     ]
    }
   ],
   "source": [
    "# An \"alif statement\" is written by using the elif keyword\n",
    "a = 40\n",
    "b = 40 \n",
    "if b > a:\n",
    "    print(\"b is greater than a\")\n",
    "elif a == b:\n",
    "    print(\"a and b are equal\")"
   ]
  },
  {
   "cell_type": "markdown",
   "id": "52e214e8-8089-4316-a6b7-1990311daa8a",
   "metadata": {},
   "source": [
    "##### else statements"
   ]
  },
  {
   "cell_type": "markdown",
   "id": "bbe851a3-bd01-49fb-bc21-99db0de58608",
   "metadata": {},
   "source": [
    "- Are used to execute block of code when conditions evaluate only to FALSE"
   ]
  },
  {
   "cell_type": "code",
   "execution_count": 7,
   "id": "67e23192-c2d1-43c5-bf58-396616d664a3",
   "metadata": {},
   "outputs": [
    {
     "name": "stdout",
     "output_type": "stream",
     "text": [
      "a is greater than b\n"
     ]
    }
   ],
   "source": [
    "a = 20\n",
    "b = 10 \n",
    "if b > a:\n",
    "    print(\"b is greater than a\")\n",
    "elif a == b:\n",
    "    print(\"a and b are equal\")\n",
    "else: \n",
    "    print(\"a is greater than b\")"
   ]
  }
 ],
 "metadata": {
  "kernelspec": {
   "display_name": "Python 3 (ipykernel)",
   "language": "python",
   "name": "python3"
  },
  "language_info": {
   "codemirror_mode": {
    "name": "ipython",
    "version": 3
   },
   "file_extension": ".py",
   "mimetype": "text/x-python",
   "name": "python",
   "nbconvert_exporter": "python",
   "pygments_lexer": "ipython3",
   "version": "3.11.7"
  }
 },
 "nbformat": 4,
 "nbformat_minor": 5
}
