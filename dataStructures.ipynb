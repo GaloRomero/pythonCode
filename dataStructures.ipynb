{
 "cells": [
  {
   "cell_type": "markdown",
   "id": "06feea5d-6a4c-402d-b0a3-c38b7cdae677",
   "metadata": {},
   "source": [
    "## Python data structures"
   ]
  },
  {
   "cell_type": "markdown",
   "id": "4643ba2a-c85e-4be5-83af-bfa73c7125dd",
   "metadata": {},
   "source": [
    "### List\n",
    "\n",
    "#### A list is a collection of data which can be of mixed data types.\n",
    "#### A list unlike variables can store multiple values in one container.\n",
    "#### Each item or value in a list is separated by a comma.\n",
    "#### A tuple is created with parenthesis []."
   ]
  },
  {
   "cell_type": "code",
   "execution_count": 2,
   "id": "2e0629ba-4f4d-48fc-a742-93f4006966e7",
   "metadata": {},
   "outputs": [],
   "source": [
    "# Create a list with animals name\n",
    "animals = [\"bear\", \"dog\", \"cat\"]"
   ]
  },
  {
   "cell_type": "code",
   "execution_count": 9,
   "id": "c1ef9c58-0bcc-468b-8970-b156ba038baf",
   "metadata": {},
   "outputs": [
    {
     "data": {
      "text/plain": [
       "'bear'"
      ]
     },
     "execution_count": 9,
     "metadata": {},
     "output_type": "execute_result"
    }
   ],
   "source": [
    "# Accesing items in a list via their index position\n",
    "animals[0]"
   ]
  },
  {
   "cell_type": "code",
   "execution_count": 10,
   "id": "76cd4f10-6e70-42f9-9ebd-ac21ef56914a",
   "metadata": {},
   "outputs": [
    {
     "data": {
      "text/plain": [
       "'cat'"
      ]
     },
     "execution_count": 10,
     "metadata": {},
     "output_type": "execute_result"
    }
   ],
   "source": [
    "# Items can also be accesed by negative index\n",
    "animals[-1]"
   ]
  },
  {
   "cell_type": "code",
   "execution_count": 11,
   "id": "de181aa6-8e05-4c44-8ea2-a5fcc8dbf7a8",
   "metadata": {},
   "outputs": [
    {
     "name": "stdout",
     "output_type": "stream",
     "text": [
      "['bird', 'dog', 'cat']\n"
     ]
    }
   ],
   "source": [
    "# Change the value of an item in the list \n",
    "animals[0] = \"bird\"\n",
    "print(animals)"
   ]
  },
  {
   "cell_type": "code",
   "execution_count": 12,
   "id": "c39a35b7-766f-4d0d-9e7a-a810f49b1aca",
   "metadata": {},
   "outputs": [
    {
     "name": "stdout",
     "output_type": "stream",
     "text": [
      "['bird', 'dog', 'cat', 'shark']\n"
     ]
    }
   ],
   "source": [
    "# Add items to a list \n",
    "animals.append(\"shark\")\n",
    "print(animals)"
   ]
  },
  {
   "cell_type": "code",
   "execution_count": 13,
   "id": "ad9b5fbb-bc94-45d6-af9a-f2bc489ee361",
   "metadata": {},
   "outputs": [],
   "source": [
    "# Create a list of mixed data types and also including other list\n",
    "mixed_data = [\"Jack\", 47, 5.3, animals]"
   ]
  },
  {
   "cell_type": "code",
   "execution_count": 14,
   "id": "b6727fcb-46aa-4bde-8d90-d34fc22722ff",
   "metadata": {},
   "outputs": [
    {
     "name": "stdout",
     "output_type": "stream",
     "text": [
      "['Jack', 47, 5.3, ['bird', 'dog', 'cat', 'shark']]\n"
     ]
    }
   ],
   "source": [
    "print(mixed_data)"
   ]
  },
  {
   "cell_type": "code",
   "execution_count": 15,
   "id": "04c45676-1d5c-4d74-a710-a11427e3be50",
   "metadata": {},
   "outputs": [
    {
     "data": {
      "text/plain": [
       "'shark'"
      ]
     },
     "execution_count": 15,
     "metadata": {},
     "output_type": "execute_result"
    }
   ],
   "source": [
    "# Remove items from a list: there are few ways to remove items \n",
    "animals.pop(3)\n",
    "# animals.remove(\"shark\")\n",
    "# del animals[3]"
   ]
  },
  {
   "cell_type": "code",
   "execution_count": 16,
   "id": "500313b1-b5a6-4a6f-972e-d393566bdc75",
   "metadata": {},
   "outputs": [
    {
     "name": "stdout",
     "output_type": "stream",
     "text": [
      "['bird', 'dog', 'cat']\n"
     ]
    }
   ],
   "source": [
    "print(animals)"
   ]
  },
  {
   "cell_type": "code",
   "execution_count": 17,
   "id": "9bedc377-70dc-4bce-b10b-13e5d7732b44",
   "metadata": {},
   "outputs": [
    {
     "name": "stdout",
     "output_type": "stream",
     "text": [
      "bird\n",
      "dog\n",
      "cat\n"
     ]
    }
   ],
   "source": [
    "# Loop though a list \n",
    "for x in animals: \n",
    "    print(x)"
   ]
  },
  {
   "cell_type": "code",
   "execution_count": 19,
   "id": "7568135a-973a-4e6a-a576-a3b718385c9f",
   "metadata": {},
   "outputs": [
    {
     "name": "stdout",
     "output_type": "stream",
     "text": [
      "3\n"
     ]
    }
   ],
   "source": [
    "# Check the length of a list \n",
    "print(len(animals))"
   ]
  },
  {
   "cell_type": "code",
   "execution_count": 22,
   "id": "65732628-fddb-46b9-98af-88b0b0ddcca9",
   "metadata": {},
   "outputs": [],
   "source": [
    "# Clear a list \n",
    "animals.clear()"
   ]
  },
  {
   "cell_type": "code",
   "execution_count": 23,
   "id": "8ee4f51e-08b2-42cb-af8b-c0afc4a0f93d",
   "metadata": {},
   "outputs": [
    {
     "data": {
      "text/plain": [
       "[]"
      ]
     },
     "execution_count": 23,
     "metadata": {},
     "output_type": "execute_result"
    }
   ],
   "source": [
    "animals"
   ]
  },
  {
   "cell_type": "markdown",
   "id": "9c6e65ba-46b9-496e-b81c-b678fe3f59e6",
   "metadata": {},
   "source": [
    "### Tuple\n",
    "\n",
    "#### A tuple is a collection of data which can be of mixed data types.\n",
    "#### A tuple unlike variables can store multiple values in one container.\n",
    "#### Each item or valye in a tuple is separated by a comma.\n",
    "#### A tuple is created with parenthesis ().\n",
    "#### Items in a tuple can assessed by their index: 0,1,2,3 etc.\n",
    "#### Items in a tuple can not be changed (immutable)."
   ]
  },
  {
   "cell_type": "code",
   "execution_count": 26,
   "id": "67e44dd3-4d8a-4fac-91e8-1e355b455493",
   "metadata": {},
   "outputs": [],
   "source": [
    "# Create a Python tuple called animals\n",
    "animals = (\"bear\", \"dog\", \"giraffe\", \"goat\", \"leopard\", \"lion\", \"penguin\", \"tiger\")"
   ]
  },
  {
   "cell_type": "code",
   "execution_count": 27,
   "id": "2fd88687-69c8-4c93-8244-5d6f0a09ff21",
   "metadata": {},
   "outputs": [
    {
     "data": {
      "text/plain": [
       "'goat'"
      ]
     },
     "execution_count": 27,
     "metadata": {},
     "output_type": "execute_result"
    }
   ],
   "source": [
    "animals[3]"
   ]
  },
  {
   "cell_type": "code",
   "execution_count": 28,
   "id": "5185c036-538d-4d34-89b3-6eb316d4b97d",
   "metadata": {},
   "outputs": [
    {
     "data": {
      "text/plain": [
       "'tiger'"
      ]
     },
     "execution_count": 28,
     "metadata": {},
     "output_type": "execute_result"
    }
   ],
   "source": [
    "animals[-1]"
   ]
  },
  {
   "cell_type": "code",
   "execution_count": 30,
   "id": "340bfd83-d9df-4813-8034-478ac43560af",
   "metadata": {},
   "outputs": [
    {
     "data": {
      "text/plain": [
       "('giraffe', 'goat', 'leopard')"
      ]
     },
     "execution_count": 30,
     "metadata": {},
     "output_type": "execute_result"
    }
   ],
   "source": [
    "animals[2:5]"
   ]
  },
  {
   "cell_type": "code",
   "execution_count": 31,
   "id": "d297ece0-3444-4b7f-b648-2e9aa5fad494",
   "metadata": {},
   "outputs": [
    {
     "name": "stdout",
     "output_type": "stream",
     "text": [
      "('giraffe', 'goat', 'leopard')\n"
     ]
    }
   ],
   "source": [
    "print(animals[2:5])"
   ]
  },
  {
   "cell_type": "code",
   "execution_count": 32,
   "id": "dbfdb906-8df1-4ef0-99e7-96b1e2e97380",
   "metadata": {},
   "outputs": [
    {
     "ename": "TypeError",
     "evalue": "'tuple' object does not support item assignment",
     "output_type": "error",
     "traceback": [
      "\u001b[1;31m---------------------------------------------------------------------------\u001b[0m",
      "\u001b[1;31mTypeError\u001b[0m                                 Traceback (most recent call last)",
      "Cell \u001b[1;32mIn[32], line 1\u001b[0m\n\u001b[1;32m----> 1\u001b[0m animals [\u001b[38;5;241m0\u001b[39m] \u001b[38;5;241m=\u001b[39m \u001b[38;5;124m\"\u001b[39m\u001b[38;5;124mshark\u001b[39m\u001b[38;5;124m\"\u001b[39m\n",
      "\u001b[1;31mTypeError\u001b[0m: 'tuple' object does not support item assignment"
     ]
    }
   ],
   "source": [
    "# Tuples are inmutable\n",
    "animals [0] = \"shark\""
   ]
  },
  {
   "cell_type": "code",
   "execution_count": 34,
   "id": "b11fb5a8-674b-4ab6-85e6-a0f3cb0af0dc",
   "metadata": {},
   "outputs": [
    {
     "name": "stdout",
     "output_type": "stream",
     "text": [
      "bear\n",
      "dog\n",
      "giraffe\n",
      "goat\n",
      "leopard\n",
      "lion\n",
      "penguin\n",
      "tiger\n"
     ]
    }
   ],
   "source": [
    "# Looping through the tuple \n",
    "for x in animals: \n",
    "    print(x)"
   ]
  },
  {
   "cell_type": "code",
   "execution_count": 35,
   "id": "d7f21a57-ca88-41dc-b499-6e160b142a29",
   "metadata": {},
   "outputs": [
    {
     "name": "stdout",
     "output_type": "stream",
     "text": [
      "8\n"
     ]
    }
   ],
   "source": [
    "# Return the length of the tuple\n",
    "print(len(animals))"
   ]
  },
  {
   "cell_type": "code",
   "execution_count": 36,
   "id": "635ba3a7-a5f6-4b4c-98bc-499c3ef2e2da",
   "metadata": {},
   "outputs": [],
   "source": [
    "# Join the tuples using + operator\n",
    "letters = (\"a\", \"b\", \"c\")\n",
    "numbers = (1,2,3)\n",
    "letters_numbers = letters + numbers"
   ]
  },
  {
   "cell_type": "code",
   "execution_count": 37,
   "id": "c62bcf20-2d0f-4dbc-addd-06d7c2ef6783",
   "metadata": {},
   "outputs": [
    {
     "data": {
      "text/plain": [
       "('a', 'b', 'c', 1, 2, 3)"
      ]
     },
     "execution_count": 37,
     "metadata": {},
     "output_type": "execute_result"
    }
   ],
   "source": [
    "letters_numbers"
   ]
  },
  {
   "cell_type": "markdown",
   "id": "44922939-ddab-47e1-a891-a2e3a819e720",
   "metadata": {},
   "source": [
    "### Dictionary\n",
    "\n",
    "#### A dictionary is a collection of data which is unordered, changeable and indexed.\n",
    "#### A dictionary is created with curly brackets {}.\n",
    "#### A populated dictionary contaisn keys and values. The data is in pairs. \n",
    "#### Items in a dictionary can assessed by referring to it's name inside square brackets.\n",
    "#### Values items in a dictionary can be changed."
   ]
  },
  {
   "cell_type": "code",
   "execution_count": 39,
   "id": "cc3b0ef5-d1df-4978-bca2-e53bb10ad9db",
   "metadata": {},
   "outputs": [],
   "source": [
    "# Create a dictionary called countries_cities\n",
    "\n",
    "countries_cities = {\n",
    "    \"United Kingdom\" : \"London\",\n",
    "    \"United States\"  : \"New York\",\n",
    "    \"Belgium\"        : \"Brussels\",\n",
    "    \"Croatia\"        : \"Zagreb\",\n",
    "    \"Egypt\"          : \"Cairo\",\n",
    "    \"Italy\"          : \"Rome\",\n",
    "}"
   ]
  },
  {
   "cell_type": "code",
   "execution_count": null,
   "id": "b1cc7d64-611c-4be2-a1d7-29c691750c42",
   "metadata": {},
   "outputs": [],
   "source": []
  }
 ],
 "metadata": {
  "kernelspec": {
   "display_name": "Python 3 (ipykernel)",
   "language": "python",
   "name": "python3"
  },
  "language_info": {
   "codemirror_mode": {
    "name": "ipython",
    "version": 3
   },
   "file_extension": ".py",
   "mimetype": "text/x-python",
   "name": "python",
   "nbconvert_exporter": "python",
   "pygments_lexer": "ipython3",
   "version": "3.11.7"
  }
 },
 "nbformat": 4,
 "nbformat_minor": 5
}
