{
 "cells": [
  {
   "cell_type": "markdown",
   "id": "e0c5af33-bac7-422e-b2ef-3ed562463ece",
   "metadata": {},
   "source": [
    "### Python operators\n",
    "\n",
    "#### Operators are used to perform operations on variables and values."
   ]
  },
  {
   "cell_type": "markdown",
   "id": "fee62af5-a127-4192-9f12-51d18bf795f8",
   "metadata": {},
   "source": [
    "#### Types of Python operators"
   ]
  },
  {
   "cell_type": "markdown",
   "id": "edaa899f-7ed3-4312-b5ee-457a0740e4eb",
   "metadata": {},
   "source": [
    "##### Arithmetic operators ( + - * / % )\n",
    "##### Used with numeric values to perform common mathematical operations."
   ]
  },
  {
   "cell_type": "code",
   "execution_count": 3,
   "id": "431ac8d9-799b-46a1-b6e2-699f9a93a95c",
   "metadata": {},
   "outputs": [
    {
     "name": "stdout",
     "output_type": "stream",
     "text": [
      "12\n"
     ]
    }
   ],
   "source": [
    "x = 7\n",
    "y = 5\n",
    "\n",
    "print(x + y) # Addition operator"
   ]
  },
  {
   "cell_type": "code",
   "execution_count": 4,
   "id": "d8b092c1-dcb7-4b90-8f3b-e4daabfde41a",
   "metadata": {},
   "outputs": [
    {
     "name": "stdout",
     "output_type": "stream",
     "text": [
      "2\n"
     ]
    }
   ],
   "source": [
    "x = 7\n",
    "y = 5\n",
    "\n",
    "print(x % y) # Modulus operator"
   ]
  },
  {
   "cell_type": "markdown",
   "id": "758f7586-b6ae-4aa5-ba32-5f93ea1f8723",
   "metadata": {},
   "source": [
    "##### Assignment operators ( = += -= *= /= %/ )\n",
    "##### Used to assign values to variables."
   ]
  },
  {
   "cell_type": "code",
   "execution_count": 5,
   "id": "4fe055bf-1809-45fe-b6e9-7730927e1b0d",
   "metadata": {},
   "outputs": [
    {
     "name": "stdout",
     "output_type": "stream",
     "text": [
      "London\n"
     ]
    }
   ],
   "source": [
    "city = \"London\"\n",
    "print(city)"
   ]
  },
  {
   "cell_type": "code",
   "execution_count": 7,
   "id": "e7d12792-f5a7-467f-aa60-7ae06d80bbd7",
   "metadata": {},
   "outputs": [
    {
     "name": "stdout",
     "output_type": "stream",
     "text": [
      "10\n"
     ]
    }
   ],
   "source": [
    "x = 7\n",
    "\n",
    "x += 3 # add 3 to the value of x: 7 + 3\n",
    "\n",
    "print(x)"
   ]
  },
  {
   "cell_type": "code",
   "execution_count": 8,
   "id": "ce30ab1a-5b62-4056-82ed-95f6613eb53b",
   "metadata": {},
   "outputs": [
    {
     "name": "stdout",
     "output_type": "stream",
     "text": [
      "2.3333333333333335\n"
     ]
    }
   ],
   "source": [
    "x = 7\n",
    "\n",
    "x /= 3 \n",
    "\n",
    "print(x)"
   ]
  },
  {
   "cell_type": "code",
   "execution_count": 11,
   "id": "fafc0212-d844-4d93-9584-a3568cdf70df",
   "metadata": {},
   "outputs": [
    {
     "name": "stdout",
     "output_type": "stream",
     "text": [
      "1\n"
     ]
    }
   ],
   "source": [
    "x = 7\n",
    "\n",
    "x %= 3 # Divide 7 by 3 and the remainder is 1\n",
    "\n",
    "print(x)"
   ]
  },
  {
   "cell_type": "markdown",
   "id": "36462a04-f67a-40e9-a1f3-98b83925f806",
   "metadata": {},
   "source": [
    "##### Comparison operators ( == != > < >= <= )\n",
    "##### Used to compare two values."
   ]
  },
  {
   "cell_type": "code",
   "execution_count": 13,
   "id": "412c6904-2422-4238-b78d-f2a3f143a892",
   "metadata": {},
   "outputs": [
    {
     "name": "stdout",
     "output_type": "stream",
     "text": [
      "False\n"
     ]
    }
   ],
   "source": [
    "x = 7\n",
    "\n",
    "y = 3\n",
    "\n",
    "print(x == y)"
   ]
  },
  {
   "cell_type": "code",
   "execution_count": 14,
   "id": "a8808a95-11f1-46fe-8cf3-379feb6d2391",
   "metadata": {},
   "outputs": [
    {
     "name": "stdout",
     "output_type": "stream",
     "text": [
      "True\n"
     ]
    }
   ],
   "source": [
    "x = 7\n",
    "\n",
    "y = 3\n",
    "\n",
    "print(x != y)"
   ]
  },
  {
   "cell_type": "code",
   "execution_count": 15,
   "id": "426ae830-ee0c-4fa8-9752-57c8a8008093",
   "metadata": {},
   "outputs": [
    {
     "name": "stdout",
     "output_type": "stream",
     "text": [
      "True\n"
     ]
    }
   ],
   "source": [
    "x = 7\n",
    "\n",
    "y = 3\n",
    "\n",
    "print(x > y)"
   ]
  },
  {
   "cell_type": "code",
   "execution_count": 16,
   "id": "a2bd48c8-0392-4b22-9408-9124cb58938d",
   "metadata": {},
   "outputs": [
    {
     "name": "stdout",
     "output_type": "stream",
     "text": [
      "False\n"
     ]
    }
   ],
   "source": [
    "x = 7\n",
    "\n",
    "y = 3\n",
    "\n",
    "print(x < y)"
   ]
  },
  {
   "cell_type": "markdown",
   "id": "23f7530b-cb25-4821-a0b3-a10342330fcf",
   "metadata": {},
   "source": [
    "##### Logical operators ( and or not )\n",
    "##### Used to combine conditional statements."
   ]
  },
  {
   "cell_type": "code",
   "execution_count": 20,
   "id": "30571ad2-5eee-4dad-a8fa-12edd64ed172",
   "metadata": {},
   "outputs": [
    {
     "name": "stdout",
     "output_type": "stream",
     "text": [
      "True\n"
     ]
    }
   ],
   "source": [
    "x = 7\n",
    "\n",
    "print(x > 3 and x < 10) # returns True because 7 is greater than 3 AND 7 is less than 10"
   ]
  },
  {
   "cell_type": "code",
   "execution_count": 21,
   "id": "293d2490-a196-4906-8c49-7cb528b9a643",
   "metadata": {},
   "outputs": [
    {
     "name": "stdout",
     "output_type": "stream",
     "text": [
      "True\n"
     ]
    }
   ],
   "source": [
    "x = 7\n",
    "\n",
    "print(x > 3 or x < 4) # returns True because one of the conditios is True (7 is greater than 3, but 7 is not less than 4)"
   ]
  },
  {
   "cell_type": "code",
   "execution_count": 22,
   "id": "c6ae2ca4-986f-463c-beb3-d5777ca5af22",
   "metadata": {},
   "outputs": [
    {
     "name": "stdout",
     "output_type": "stream",
     "text": [
      "False\n"
     ]
    }
   ],
   "source": [
    "x = 7 \n",
    "\n",
    "print(not(x > 3 and x < 10)) # returns false because NOT is used to reverse the result (instead of false, it returns FALSE)"
   ]
  }
 ],
 "metadata": {
  "kernelspec": {
   "display_name": "Python 3 (ipykernel)",
   "language": "python",
   "name": "python3"
  },
  "language_info": {
   "codemirror_mode": {
    "name": "ipython",
    "version": 3
   },
   "file_extension": ".py",
   "mimetype": "text/x-python",
   "name": "python",
   "nbconvert_exporter": "python",
   "pygments_lexer": "ipython3",
   "version": "3.11.7"
  }
 },
 "nbformat": 4,
 "nbformat_minor": 5
}
