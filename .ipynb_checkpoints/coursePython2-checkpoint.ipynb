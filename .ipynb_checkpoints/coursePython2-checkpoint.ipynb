{
 "cells": [
  {
   "cell_type": "markdown",
   "id": "06feea5d-6a4c-402d-b0a3-c38b7cdae677",
   "metadata": {},
   "source": [
    "## Python begginers"
   ]
  },
  {
   "cell_type": "code",
   "execution_count": null,
   "id": "b5a3fba6-da12-4c1c-b1bd-9da1a1a01538",
   "metadata": {},
   "outputs": [],
   "source": []
  }
 ],
 "metadata": {
  "kernelspec": {
   "display_name": "Python 3 (ipykernel)",
   "language": "python",
   "name": "python3"
  },
  "language_info": {
   "codemirror_mode": {
    "name": "ipython",
    "version": 3
   },
   "file_extension": ".py",
   "mimetype": "text/x-python",
   "name": "python",
   "nbconvert_exporter": "python",
   "pygments_lexer": "ipython3",
   "version": "3.11.7"
  }
 },
 "nbformat": 4,
 "nbformat_minor": 5
}
