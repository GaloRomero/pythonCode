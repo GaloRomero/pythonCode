{
 "cells": [
  {
   "cell_type": "markdown",
   "id": "81748592-4ea6-4d51-927e-121618ffe56b",
   "metadata": {},
   "source": [
    "### Python Loops"
   ]
  },
  {
   "cell_type": "markdown",
   "id": "ce2bbb4e-d962-4169-a4e1-12f325664178",
   "metadata": {},
   "source": [
    "- A sequence of instructions (computer code) that is continually repeated until a certain condition is reached."
   ]
  },
  {
   "cell_type": "markdown",
   "id": "0bc1b4db-0da0-4ca1-8016-cb2e0978fa5b",
   "metadata": {},
   "source": [
    "#### Types of Python Loops"
   ]
  },
  {
   "cell_type": "markdown",
   "id": "c0b232f1-8865-4ba9-a7a2-66d23314d396",
   "metadata": {},
   "source": [
    "##### While loop\n",
    "- Used to execue a set of statements (code) as long as a condition is TRUE."
   ]
  },
  {
   "cell_type": "code",
   "execution_count": 6,
   "id": "8801a23c-dbfa-42a3-bea2-8d331d97b8fc",
   "metadata": {},
   "outputs": [
    {
     "name": "stdout",
     "output_type": "stream",
     "text": [
      "1\n",
      "2\n",
      "3\n",
      "4\n",
      "5\n",
      "6\n"
     ]
    }
   ],
   "source": [
    "# While loop: printing until reaching 7 (not include)\n",
    "\n",
    "i = 1\n",
    "while i < 7:\n",
    "    print(i)\n",
    "    i += 1 # increment counter. If you not include, it would be never be FALSE\n",
    "    \n",
    "# Note: remenber to increment i, or else the loop will continue forever.\n",
    "    \n",
    "# The while loop requires relevant variables to be ready. In this example\n",
    "# we need to define an indexing variable, i, in which we set to 1. "
   ]
  },
  {
   "cell_type": "code",
   "execution_count": 1,
   "id": "f230b96f-fe11-4f5b-a39f-3fe058d7f9e4",
   "metadata": {},
   "outputs": [
    {
     "name": "stdout",
     "output_type": "stream",
     "text": [
      "1\n",
      "2\n",
      "3\n",
      "4\n"
     ]
    }
   ],
   "source": [
    "# The break statement: with the break statement we can stop the loop even if the while condition is TRUE \n",
    "\n",
    "i = 1\n",
    "while i < 7:\n",
    "    print(i)\n",
    "    if (i == 4):\n",
    "      break\n",
    "    i += 1\n",
    "\n",
    "# Result: 1,2,3 and 4."
   ]
  },
  {
   "cell_type": "code",
   "execution_count": 6,
   "id": "b2d718ec-4841-4cf9-906b-67f595ec0f35",
   "metadata": {},
   "outputs": [
    {
     "name": "stdout",
     "output_type": "stream",
     "text": [
      "1\n",
      "2\n",
      "3\n",
      "5\n",
      "6\n",
      "7\n"
     ]
    }
   ],
   "source": [
    "# Continue statement: we can stop the current iteration, and continue with the next\n",
    "\n",
    "i = 0\n",
    "while i < 7:\n",
    "    i += 1\n",
    "    if i == 4: # when i becomes 4, continues the loop without including it \n",
    "        continue\n",
    "    print(i)\n",
    "\n",
    "# Note that number 4 is missing in the result. \n",
    "# The number 4 is skipped due to the continue statement"
   ]
  },
  {
   "cell_type": "markdown",
   "id": "1ac31b4e-d8bb-40d3-b42d-d81553e80336",
   "metadata": {},
   "source": [
    "##### For loop\n",
    "- Used for iterating over a sequence: that is either a list, a tuple, a dictionary or a string."
   ]
  },
  {
   "cell_type": "code",
   "execution_count": 8,
   "id": "7f00eac2-3018-4ba0-8053-afbaefb8b596",
   "metadata": {},
   "outputs": [
    {
     "name": "stdout",
     "output_type": "stream",
     "text": [
      "apple\n",
      "banana\n",
      "cherry\n",
      "kiwy\n",
      "oranges\n"
     ]
    }
   ],
   "source": [
    "fruits = [\"apple\", \"banana\", \"cherry\", \"kiwy\", \"oranges\"]\n",
    "for x in fruits: # x represents each item in the list \"fruits\"\n",
    "    print(x)"
   ]
  },
  {
   "cell_type": "code",
   "execution_count": 10,
   "id": "77349cde-4712-4089-993a-bdb315813146",
   "metadata": {},
   "outputs": [
    {
     "name": "stdout",
     "output_type": "stream",
     "text": [
      "s\n",
      "t\n",
      "r\n",
      "a\n",
      "w\n",
      "b\n",
      "e\n",
      "r\n",
      "r\n",
      "y\n"
     ]
    }
   ],
   "source": [
    "# We can also use the for loop to iterate over a string \n",
    "\n",
    "for x in \"strawberry\": # x represents each character in the string \"strawberry\"\n",
    "    print(x)"
   ]
  },
  {
   "cell_type": "code",
   "execution_count": 15,
   "id": "c7872ccc-2b15-4a24-bc15-15c13c28da31",
   "metadata": {},
   "outputs": [
    {
     "name": "stdout",
     "output_type": "stream",
     "text": [
      "red apple\n",
      "red banana\n",
      "red cherry\n",
      "big apple\n",
      "big banana\n",
      "big cherry\n",
      "tasty apple\n",
      "tasty banana\n",
      "tasty cherry\n"
     ]
    }
   ],
   "source": [
    "# Nested loops\n",
    "\n",
    "adj = [\"red\", \"big\", \"tasty\"]\n",
    "fruits = [\"apple\", \"banana\", \"cherry\"]\n",
    "\n",
    "for x in adj:\n",
    "    for y in fruits:\n",
    "        print(x,y)"
   ]
  }
 ],
 "metadata": {
  "kernelspec": {
   "display_name": "Python 3 (ipykernel)",
   "language": "python",
   "name": "python3"
  },
  "language_info": {
   "codemirror_mode": {
    "name": "ipython",
    "version": 3
   },
   "file_extension": ".py",
   "mimetype": "text/x-python",
   "name": "python",
   "nbconvert_exporter": "python",
   "pygments_lexer": "ipython3",
   "version": "3.11.7"
  }
 },
 "nbformat": 4,
 "nbformat_minor": 5
}
