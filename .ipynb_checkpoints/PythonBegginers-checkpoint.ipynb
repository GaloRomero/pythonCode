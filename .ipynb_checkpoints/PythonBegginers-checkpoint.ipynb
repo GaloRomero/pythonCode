{
 "cells": [
  {
   "cell_type": "markdown",
   "id": "06feea5d-6a4c-402d-b0a3-c38b7cdae677",
   "metadata": {},
   "source": [
    "## Python programming with Pandas"
   ]
  },
  {
   "cell_type": "code",
   "execution_count": null,
   "id": "20bf4e37-790a-46f3-bcb4-648f16749816",
   "metadata": {},
   "outputs": [],
   "source": []
  }
 ],
 "metadata": {
  "kernelspec": {
   "display_name": "Python 3 (ipykernel)",
   "language": "python",
   "name": "python3"
  },
  "language_info": {
   "codemirror_mode": {
    "name": "ipython",
    "version": 3
   },
   "file_extension": ".py",
   "mimetype": "text/x-python",
   "name": "python",
   "nbconvert_exporter": "python",
   "pygments_lexer": "ipython3",
   "version": "3.11.7"
  }
 },
 "nbformat": 4,
 "nbformat_minor": 5
}
