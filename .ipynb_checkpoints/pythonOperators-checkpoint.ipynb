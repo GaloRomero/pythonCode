{
 "cells": [
  {
   "cell_type": "markdown",
   "id": "e0c5af33-bac7-422e-b2ef-3ed562463ece",
   "metadata": {},
   "source": [
    "### Python operators\n",
    "\n",
    "#### Operators are used to perform operations on variables and values."
   ]
  },
  {
   "cell_type": "markdown",
   "id": "fee62af5-a127-4192-9f12-51d18bf795f8",
   "metadata": {},
   "source": [
    "#### Types of Python operators"
   ]
  },
  {
   "cell_type": "markdown",
   "id": "edaa899f-7ed3-4312-b5ee-457a0740e4eb",
   "metadata": {},
   "source": [
    "##### Arithmetic operators ( + - * / % )\n",
    "##### Used with numeric values to perform common mathematical operations."
   ]
  },
  {
   "cell_type": "markdown",
   "id": "758f7586-b6ae-4aa5-ba32-5f93ea1f8723",
   "metadata": {},
   "source": [
    "##### Assignment operators ( = += -= *= /= %/ )\n",
    "##### Used to assign values to variables."
   ]
  },
  {
   "cell_type": "markdown",
   "id": "36462a04-f67a-40e9-a1f3-98b83925f806",
   "metadata": {},
   "source": [
    "##### Comparison operators ( == != > < >= <= )\n",
    "##### Used to compare two values."
   ]
  },
  {
   "cell_type": "markdown",
   "id": "23f7530b-cb25-4821-a0b3-a10342330fcf",
   "metadata": {},
   "source": [
    "##### Logical operators ( and or not )\n",
    "##### Used to combine conditional statements."
   ]
  }
 ],
 "metadata": {
  "kernelspec": {
   "display_name": "Python 3 (ipykernel)",
   "language": "python",
   "name": "python3"
  },
  "language_info": {
   "codemirror_mode": {
    "name": "ipython",
    "version": 3
   },
   "file_extension": ".py",
   "mimetype": "text/x-python",
   "name": "python",
   "nbconvert_exporter": "python",
   "pygments_lexer": "ipython3",
   "version": "3.11.7"
  }
 },
 "nbformat": 4,
 "nbformat_minor": 5
}
