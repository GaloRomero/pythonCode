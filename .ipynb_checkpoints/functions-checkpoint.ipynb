{
 "cells": [
  {
   "cell_type": "markdown",
   "id": "dbef3e64-14a9-4441-b703-4ed13f079e7c",
   "metadata": {},
   "source": [
    "### Functions\n",
    "- Are pieces (block) of code that does something.\n",
    "- They are reusable.\n",
    "- They execute or run when caled by their name.\n",
    "- The can have parameters (variables) and arguments (values).\n",
    "- The can return data as a result.\n",
    "- There are built-in functions. Example: print().\n",
    "- You can also create your own custom functions."
   ]
  },
  {
   "cell_type": "code",
   "execution_count": 1,
   "id": "0fe4a2bd-faee-4466-afb2-b095eced76d0",
   "metadata": {},
   "outputs": [
    {
     "name": "stdout",
     "output_type": "stream",
     "text": [
      "9\n"
     ]
    }
   ],
   "source": [
    "def sum(x,y): # x and y are parameters\n",
    "    print(x + y)\n",
    "sum(4,5) # 4 and 5 are arguments"
   ]
  },
  {
   "cell_type": "code",
   "execution_count": 2,
   "id": "16a43df9-40a4-4e91-ab56-779d76e8c671",
   "metadata": {},
   "outputs": [
    {
     "name": "stdout",
     "output_type": "stream",
     "text": [
      "Hello Bluelime\n",
      "Hello John\n",
      "Hello Jane\n"
     ]
    }
   ],
   "source": [
    "def student_names(names=\"Bluelime\"): # Blueline is the default parameter value \n",
    "    print(\"Hello \" + names)\n",
    "\n",
    "    # Calling the function with and without arguments\n",
    "student_names()\n",
    "student_names(\"John\")\n",
    "student_names(\"Jane\")"
   ]
  }
 ],
 "metadata": {
  "kernelspec": {
   "display_name": "Python 3 (ipykernel)",
   "language": "python",
   "name": "python3"
  },
  "language_info": {
   "codemirror_mode": {
    "name": "ipython",
    "version": 3
   },
   "file_extension": ".py",
   "mimetype": "text/x-python",
   "name": "python",
   "nbconvert_exporter": "python",
   "pygments_lexer": "ipython3",
   "version": "3.11.7"
  }
 },
 "nbformat": 4,
 "nbformat_minor": 5
}
