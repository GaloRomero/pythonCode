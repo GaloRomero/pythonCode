{
 "cells": [
  {
   "cell_type": "markdown",
   "id": "dbef3e64-14a9-4441-b703-4ed13f079e7c",
   "metadata": {},
   "source": [
    "### Functions\n",
    "- Are pieces (block) of code that does something.\n",
    "- They are reusable.\n",
    "- They execute or run when caled by their name.\n",
    "- The can have parameters (variables) and arguments (values).\n",
    "- The can return data as a result.\n",
    "- There are built-in functions. Example: print().\n",
    "- You can also create your own custom functions."
   ]
  },
  {
   "cell_type": "code",
   "execution_count": 1,
   "id": "0fe4a2bd-faee-4466-afb2-b095eced76d0",
   "metadata": {},
   "outputs": [
    {
     "name": "stdout",
     "output_type": "stream",
     "text": [
      "9\n"
     ]
    }
   ],
   "source": [
    "def sum(x,y): # x and y are parameters\n",
    "    print(x + y)\n",
    "sum(4,5) # 4 and 5 are arguments"
   ]
  },
  {
   "cell_type": "code",
   "execution_count": 2,
   "id": "16a43df9-40a4-4e91-ab56-779d76e8c671",
   "metadata": {},
   "outputs": [
    {
     "name": "stdout",
     "output_type": "stream",
     "text": [
      "Hello Bluelime\n",
      "Hello John\n",
      "Hello Jane\n"
     ]
    }
   ],
   "source": [
    "def student_names(names=\"Bluelime\"): # Blueline is the default parameter value \n",
    "    print(\"Hello \" + names)\n",
    "\n",
    "    # Calling the function with and without arguments\n",
    "student_names()\n",
    "student_names(\"John\")\n",
    "student_names(\"Jane\")"
   ]
  },
  {
   "cell_type": "code",
   "execution_count": 4,
   "id": "c2c390d2-15a6-4d76-9f35-fd5c4f86af2b",
   "metadata": {},
   "outputs": [
    {
     "name": "stdout",
     "output_type": "stream",
     "text": [
      "Hi there Mosh Hamedani\n",
      "Welcome aboard\n",
      "Hi there John Smith\n",
      "Welcome aboard\n"
     ]
    }
   ],
   "source": [
    "# We create our custom functions\n",
    "def greet(first_name, last_name):# Parameters between parenthesis are considered the input\n",
    "    print(f\"Hi there {first_name} {last_name}\")\n",
    "    print(\"Welcome aboard\")\n",
    "\n",
    "\n",
    "greet(\"Mosh\", \"Hamedani\") # Arguments or actual value for a given parameter \n",
    "greet(\"John\", \"Smith\") # Arguments or actual value for a given parameter "
   ]
  },
  {
   "cell_type": "code",
   "execution_count": 6,
   "id": "2824b14c-15ee-4ab7-a60d-855ae2bac600",
   "metadata": {},
   "outputs": [
    {
     "name": "stdout",
     "output_type": "stream",
     "text": [
      "Hi Mosh\n",
      "None\n"
     ]
    }
   ],
   "source": [
    "def greet(name):\n",
    "    print(f\"Hi {name}\")\n",
    "\n",
    "print(greet(\"Mosh\"))"
   ]
  },
  {
   "cell_type": "code",
   "execution_count": 9,
   "id": "21969938-50e6-4e62-a193-8f37ddc832df",
   "metadata": {},
   "outputs": [
    {
     "name": "stdout",
     "output_type": "stream",
     "text": [
      "7\n"
     ]
    }
   ],
   "source": [
    "def increment(number, by=5):\n",
    "    return number + by \n",
    "\n",
    "print(increment(2))"
   ]
  },
  {
   "cell_type": "code",
   "execution_count": null,
   "id": "693e7e90-0390-4e1b-9b51-10dd3c3d2a0e",
   "metadata": {},
   "outputs": [],
   "source": []
  }
 ],
 "metadata": {
  "kernelspec": {
   "display_name": "Python 3 (ipykernel)",
   "language": "python",
   "name": "python3"
  },
  "language_info": {
   "codemirror_mode": {
    "name": "ipython",
    "version": 3
   },
   "file_extension": ".py",
   "mimetype": "text/x-python",
   "name": "python",
   "nbconvert_exporter": "python",
   "pygments_lexer": "ipython3",
   "version": "3.11.7"
  }
 },
 "nbformat": 4,
 "nbformat_minor": 5
}
